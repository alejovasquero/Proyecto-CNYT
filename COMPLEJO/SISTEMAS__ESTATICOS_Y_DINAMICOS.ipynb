{
 "cells": [
  {
   "cell_type": "code",
   "execution_count": 2,
   "metadata": {},
   "outputs": [],
   "source": [
    "%run COMPLEJO.ipynb\n",
    "%run VECTOR_MATRIZ.ipynb"
   ]
  },
  {
   "cell_type": "code",
   "execution_count": 3,
   "metadata": {},
   "outputs": [
    {
     "name": "stdout",
     "output_type": "stream",
     "text": [
      "['0.00']\n",
      "['0.00']\n",
      "['0.00']\n",
      "['0.00']\n",
      "['0.00']\n",
      "['1.00']\n",
      "['0.00', '0.00', '0.00', '0.00', '0.00', '0.00']\n",
      "['0.00', '0.00', '0.00', '1.00', '0.00', '0.00']\n",
      "['0.00', '1.00', '0.00', '0.00', '0.00', '1.00']\n",
      "['0.00', '0.00', '1.00', '0.00', '0.00', '0.00']\n",
      "['0.00', '0.00', '0.00', '0.00', '1.00', '0.00']\n",
      "['1.00', '0.00', '0.00', '0.00', '0.00', '0.00']\n",
      "['0.00']\n",
      "['1.00']\n",
      "['0.00']\n",
      "['0.00']\n",
      "['0.00']\n",
      "['0.00']\n"
     ]
    }
   ],
   "source": [
    "def procesar(dinamica, estado, t):\n",
    "    for i in range(t):\n",
    "        estado = dinamica*estado\n",
    "        \n",
    "    return estado\n",
    "\n",
    "estado = Matriz(6,1,[[(0,0)], [(0,0)], [(0,0)], [(0,0)], [(0,0)], [(1,0)]])\n",
    "print(estado)\n",
    "\n",
    "\n",
    "dinamica = Matriz(6,6)\n",
    "lista = [5,2,3,1,4,2]\n",
    "for i in range(dinamica.filas):\n",
    "    dinamica[lista[i],i] = Complejo(1,0)\n",
    "f = procesar(dinamica, estado, 2019)\n",
    "print(dinamica)\n",
    "print(f)"
   ]
  },
  {
   "cell_type": "code",
   "execution_count": 4,
   "metadata": {},
   "outputs": [
    {
     "name": "stdout",
     "output_type": "stream",
     "text": [
      "['0.00']\n",
      "['3.00']\n",
      "['11.00']\n",
      "['8.00']\n",
      "['3.00']\n",
      "['0.00']\n"
     ]
    }
   ],
   "source": [
    "estado = Matriz(6,1,[[(6,0)], [(0,0)], [(3,0)], [(5,0)], [(3,0)], [(8,0)]])\n",
    "dinamica = Matriz(6,6)\n",
    "lista = [5,2,3,1,4,2]\n",
    "for i in range(dinamica.filas):\n",
    "    dinamica[lista[i],i] = Complejo(1,0)\n",
    "f = procesar(dinamica, estado, 5000)\n",
    "print(f)"
   ]
  },
  {
   "cell_type": "code",
   "execution_count": 5,
   "metadata": {},
   "outputs": [
    {
     "name": "stdout",
     "output_type": "stream",
     "text": [
      "['0.00']\n",
      "['6.00']\n",
      "['4.00']\n",
      "['9.00']\n",
      "['2.00']\n",
      "['0.00']\n"
     ]
    }
   ],
   "source": [
    "estado = Matriz(6,1,[[(6,0)], [(5,0)], [(4,0)], [(3,0)], [(2,0)], [(1,0)]])\n",
    "dinamica = Matriz(6,6)\n",
    "lista = [5,2,3,1,4,2]\n",
    "for i in range(dinamica.filas):\n",
    "    dinamica[lista[i],i] = Complejo(1,0)\n",
    "f = procesar(dinamica, estado,3000)\n",
    "print(f)"
   ]
  },
  {
   "cell_type": "code",
   "execution_count": 13,
   "metadata": {},
   "outputs": [
    {
     "name": "stdout",
     "output_type": "stream",
     "text": [
      "0.11430041152263373\n",
      "0.11486625514403292\n",
      "0.17433699131229993\n",
      "0.1752000457247371\n",
      "0.21012802926383173\n",
      "0.21116826703246455\n"
     ]
    }
   ],
   "source": [
    "def procesarProbabilidad(sistemaA, sistemaB, estadoA, estadoB, t):\n",
    "    dinamica = sistemaA.productoTensor(sistemaB)\n",
    "    estado = estadoA.productoTensor(estadoB)\n",
    "    \n",
    "    for i in range(t):\n",
    "        estado = dinamica*estado\n",
    "    return estado\n",
    "posicion = Matriz(3,3, [[(0,0), (1/6,0), (5/6,0)], [(1/3,0), (1/2, 0), (1/6,0)],[(2/3,0) ,(1/3,0), (0,0)]])\n",
    "animo = Matriz(2,2, [[(1/3,0), (2/3,0)], [(2/3,0), (1/3,0)]])\n",
    "estadoP = Matriz(3,1, [[(1,0)], [(0,0)], [(0,0)]])\n",
    "estadoA = Matriz(2,1, [[(0.8,0)], [(0.2,0)]])\n",
    "res = procesarProbabilidad(posicion, animo, estadoP, estadoA, 3)\n",
    "\n",
    "\n",
    "res = procesarProbabilidad(posicion, animo, estadoP, estadoA, 5)\n",
    "for i in range(res.filas):\n",
    "    print(res[i,0].parteReal)\n",
    "\n",
    "\n"
   ]
  },
  {
   "cell_type": "code",
   "execution_count": 18,
   "metadata": {},
   "outputs": [
    {
     "name": "stdout",
     "output_type": "stream",
     "text": [
      "0.16666666666666619\n",
      "0.16666666666666619\n",
      "0.1666666666666662\n",
      "0.1666666666666662\n",
      "0.16666666666666619\n",
      "0.16666666666666619\n"
     ]
    }
   ],
   "source": [
    "posicion = Matriz(3,3, [[(0,0), (1/6,0), (5/6,0)], [(1/3,0), (1/2, 0), (1/6,0)],[(2/3,0) ,(1/3,0), (0,0)]])\n",
    "animo = Matriz(2,2, [[(1/3,0), (2/3,0)], [(2/3,0), (1/3,0)]])\n",
    "estadoP = Matriz(3,1, [[(0.01,0)], [(0.9,0)], [(0.09,0)]])\n",
    "estadoA = Matriz(2,1, [[(0.05,0)], [(0.95,0)]])\n",
    "\n",
    "\n",
    "\n",
    "res = procesarProbabilidad(posicion, animo, estadoP, estadoA, 2000)\n",
    "for i in range(res.filas):\n",
    "    print(res[i,0].parteReal)\n"
   ]
  },
  {
   "cell_type": "code",
   "execution_count": 28,
   "metadata": {},
   "outputs": [
    {
     "name": "stdout",
     "output_type": "stream",
     "text": [
      "['0.58']\n",
      "['0.52i']\n",
      "['0.63i']\n",
      "\n",
      "['0.71', '0.71', '0.00']\n",
      "['-0.71i', '0.71i', '0.00']\n",
      "['0.00', '0.00', '-1.00i']\n",
      "\n",
      "0.2999999999999998\n",
      "0.2999999999999998\n",
      "0.4\n",
      "['0.55 -0.03i']\n",
      "['-0.55 -0.03i']\n",
      "['0.63i']\n"
     ]
    }
   ],
   "source": [
    "r2=2**0.5\n",
    "r3=3**0.5\n",
    "M = Matriz(3,3, [[(1/r2,0), (1/r2,0), (0,0)], [(0,-1/r2), (0,1/r2), (0,0)], [(0,0), (0,0), (0,-1)]])\n",
    "V = Matriz(3,1, [[(1/r3,0)], [(0,2/(15**0.5))], [(0,(2/5)**0.5)]])\n",
    "res = procesar(M, V, 4)\n",
    "print(V)\n",
    "print()\n",
    "print(M)\n",
    "print()\n",
    "for i in range(res.filas):\n",
    "    print(res[i,0].modulo()**2)\n",
    "print(res)\n"
   ]
  },
  {
   "cell_type": "code",
   "execution_count": 44,
   "metadata": {},
   "outputs": [
    {
     "name": "stdout",
     "output_type": "stream",
     "text": [
      "16\n",
      "1 4 3\n",
      "1 5 4\n",
      "1 6 5\n",
      "1 7 6\n",
      "1 8 7\n",
      "1 9 8\n",
      "1 10 9\n",
      "1 11 10\n",
      "1 12 11\n",
      "1 13 12\n",
      "1 14 13\n",
      "1 15 14\n",
      "2 4 14\n"
     ]
    },
    {
     "ename": "IndexError",
     "evalue": "list index out of range",
     "output_type": "error",
     "traceback": [
      "\u001b[1;31m---------------------------------------------------------------------------\u001b[0m",
      "\u001b[1;31mIndexError\u001b[0m                                Traceback (most recent call last)",
      "\u001b[1;32m<ipython-input-44-fc5a291a6ec3>\u001b[0m in \u001b[0;36m<module>\u001b[1;34m\u001b[0m\n\u001b[0;32m     18\u001b[0m     \u001b[1;32mreturn\u001b[0m \u001b[0mans\u001b[0m\u001b[1;33m\u001b[0m\u001b[1;33m\u001b[0m\u001b[0m\n\u001b[0;32m     19\u001b[0m \u001b[1;33m\u001b[0m\u001b[0m\n\u001b[1;32m---> 20\u001b[1;33m \u001b[0mres\u001b[0m \u001b[1;33m=\u001b[0m \u001b[0mcrearMatrizRendija\u001b[0m\u001b[1;33m(\u001b[0m\u001b[1;36m3\u001b[0m\u001b[1;33m,\u001b[0m \u001b[1;36m5\u001b[0m\u001b[1;33m,\u001b[0m \u001b[1;33m[\u001b[0m\u001b[1;36m1\u001b[0m\u001b[1;33m/\u001b[0m\u001b[1;36m5\u001b[0m\u001b[1;33m]\u001b[0m\u001b[1;33m*\u001b[0m\u001b[1;36m15\u001b[0m\u001b[1;33m)\u001b[0m\u001b[1;33m\u001b[0m\u001b[1;33m\u001b[0m\u001b[0m\n\u001b[0m\u001b[0;32m     21\u001b[0m \u001b[0mprint\u001b[0m\u001b[1;33m(\u001b[0m\u001b[0mres\u001b[0m\u001b[1;33m.\u001b[0m\u001b[0mfilas\u001b[0m\u001b[1;33m)\u001b[0m\u001b[1;33m\u001b[0m\u001b[1;33m\u001b[0m\u001b[0m\n",
      "\u001b[1;32m<ipython-input-44-fc5a291a6ec3>\u001b[0m in \u001b[0;36mcrearMatrizRendija\u001b[1;34m(rendijas, blancos, probabilidades)\u001b[0m\n\u001b[0;32m     11\u001b[0m     \u001b[1;32mfor\u001b[0m \u001b[0mi\u001b[0m \u001b[1;32min\u001b[0m \u001b[0mrange\u001b[0m\u001b[1;33m(\u001b[0m\u001b[1;36m1\u001b[0m\u001b[1;33m,\u001b[0m \u001b[0mrendijas\u001b[0m\u001b[1;33m+\u001b[0m\u001b[1;36m1\u001b[0m\u001b[1;33m)\u001b[0m\u001b[1;33m:\u001b[0m\u001b[1;33m\u001b[0m\u001b[1;33m\u001b[0m\u001b[0m\n\u001b[0;32m     12\u001b[0m         \u001b[1;32mfor\u001b[0m \u001b[0mj\u001b[0m \u001b[1;32min\u001b[0m \u001b[0mrange\u001b[0m\u001b[1;33m(\u001b[0m\u001b[0mrendijas\u001b[0m\u001b[1;33m+\u001b[0m\u001b[1;36m1\u001b[0m\u001b[1;33m,\u001b[0m\u001b[0mans\u001b[0m\u001b[1;33m.\u001b[0m\u001b[0mfilas\u001b[0m\u001b[1;33m)\u001b[0m\u001b[1;33m:\u001b[0m\u001b[1;33m\u001b[0m\u001b[1;33m\u001b[0m\u001b[0m\n\u001b[1;32m---> 13\u001b[1;33m             \u001b[0mans\u001b[0m\u001b[1;33m[\u001b[0m\u001b[0mi\u001b[0m\u001b[1;33m,\u001b[0m\u001b[0mj\u001b[0m\u001b[1;33m]\u001b[0m\u001b[1;33m=\u001b[0m\u001b[0mprobabilidades\u001b[0m\u001b[1;33m[\u001b[0m\u001b[0mprob\u001b[0m\u001b[1;33m]\u001b[0m\u001b[1;33m\u001b[0m\u001b[1;33m\u001b[0m\u001b[0m\n\u001b[0m\u001b[0;32m     14\u001b[0m             \u001b[0mprint\u001b[0m\u001b[1;33m(\u001b[0m\u001b[0mi\u001b[0m\u001b[1;33m,\u001b[0m\u001b[0mj\u001b[0m\u001b[1;33m,\u001b[0m\u001b[0mprob\u001b[0m\u001b[1;33m)\u001b[0m\u001b[1;33m\u001b[0m\u001b[1;33m\u001b[0m\u001b[0m\n\u001b[0;32m     15\u001b[0m             \u001b[0mprob\u001b[0m\u001b[1;33m+=\u001b[0m\u001b[1;36m1\u001b[0m\u001b[1;33m\u001b[0m\u001b[1;33m\u001b[0m\u001b[0m\n",
      "\u001b[1;31mIndexError\u001b[0m: list index out of range"
     ]
    }
   ],
   "source": [
    "def crearMatrizRendija(rendijas, blancos, probabilidades):\n",
    "    m = 1+rendijas+rendijas*(blancos-1)\n",
    "    ans = Matriz(m,m)\n",
    "    print(m)\n",
    "    if(len(probabilidades)!=m-1):\n",
    "        raise Exception(\"Probabilidades insuficientes\")\n",
    "    prob=0\n",
    "    for i in range(0,rendijas):\n",
    "        ans[i,0]=probabilidades[prob]\n",
    "        prob+=1\n",
    "    for i in range(1, rendijas+1):\n",
    "        for j in range(rendijas+1,ans.filas):\n",
    "            ans[i,j]=probabilidades[prob]\n",
    "            print(i,j,prob)\n",
    "            prob+=1\n",
    "        prob-=1\n",
    "            \n",
    "    return ans\n",
    "\n",
    "res = crearMatrizRendija(3, 5, [1/5]*15)\n",
    "print(res.filas)"
   ]
  },
  {
   "cell_type": "code",
   "execution_count": null,
   "metadata": {},
   "outputs": [],
   "source": []
  }
 ],
 "metadata": {
  "kernelspec": {
   "display_name": "Python 3",
   "language": "python",
   "name": "python3"
  },
  "language_info": {
   "codemirror_mode": {
    "name": "ipython",
    "version": 3
   },
   "file_extension": ".py",
   "mimetype": "text/x-python",
   "name": "python",
   "nbconvert_exporter": "python",
   "pygments_lexer": "ipython3",
   "version": "3.7.3"
  }
 },
 "nbformat": 4,
 "nbformat_minor": 2
}
