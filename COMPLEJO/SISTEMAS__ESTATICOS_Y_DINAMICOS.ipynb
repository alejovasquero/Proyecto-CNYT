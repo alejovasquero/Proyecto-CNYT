{
 "cells": [
  {
   "cell_type": "code",
   "execution_count": 1,
   "metadata": {},
   "outputs": [],
   "source": [
    "%run COMPLEJO.ipynb\n",
    "%run VECTOR_MATRIZ.ipynb"
   ]
  },
  {
   "cell_type": "code",
   "execution_count": 59,
   "metadata": {},
   "outputs": [
    {
     "name": "stdout",
     "output_type": "stream",
     "text": [
      "['0.00']\n",
      "['0.00']\n",
      "['0.00']\n",
      "['0.00']\n",
      "['0.00']\n",
      "['1.00']\n",
      "['0.00', '0.00', '0.00', '0.00', '0.00', '0.00']\n",
      "['0.00', '0.00', '0.00', '1.00', '0.00', '0.00']\n",
      "['0.00', '1.00', '0.00', '0.00', '0.00', '1.00']\n",
      "['0.00', '0.00', '1.00', '0.00', '0.00', '0.00']\n",
      "['0.00', '0.00', '0.00', '0.00', '1.00', '0.00']\n",
      "['1.00', '0.00', '0.00', '0.00', '0.00', '0.00']\n",
      "['0.00']\n",
      "['1.00']\n",
      "['0.00']\n",
      "['0.00']\n",
      "['0.00']\n",
      "['0.00']\n"
     ]
    }
   ],
   "source": [
    "def procesar(dinamica, estado, t):\n",
    "    for i in range(t):\n",
    "        estado = dinamica*estado\n",
    "        \n",
    "    return estado\n",
    "\n",
    "estado = Matriz(6,1,[[(0,0)], [(0,0)], [(0,0)], [(0,0)], [(0,0)], [(1,0)]])\n",
    "print(estado)\n",
    "\n",
    "\n",
    "dinamica = Matriz(6,6)\n",
    "lista = [5,2,3,1,4,2]\n",
    "for i in range(dinamica.filas):\n",
    "    dinamica[lista[i],i] = Complejo(1,0)\n",
    "f = procesar(dinamica, estado, 2019)\n",
    "print(dinamica)\n",
    "print(f)"
   ]
  },
  {
   "cell_type": "code",
   "execution_count": 60,
   "metadata": {},
   "outputs": [
    {
     "name": "stdout",
     "output_type": "stream",
     "text": [
      "['0.00']\n",
      "['3.00']\n",
      "['11.00']\n",
      "['8.00']\n",
      "['3.00']\n",
      "['0.00']\n"
     ]
    }
   ],
   "source": [
    "estado = Matriz(6,1,[[(6,0)], [(0,0)], [(3,0)], [(5,0)], [(3,0)], [(8,0)]])\n",
    "dinamica = Matriz(6,6)\n",
    "lista = [5,2,3,1,4,2]\n",
    "for i in range(dinamica.filas):\n",
    "    dinamica[lista[i],i] = Complejo(1,0)\n",
    "f = procesar(dinamica, estado, 5000)\n",
    "print(f)"
   ]
  },
  {
   "cell_type": "code",
   "execution_count": 61,
   "metadata": {},
   "outputs": [
    {
     "name": "stdout",
     "output_type": "stream",
     "text": [
      "['0.00']\n",
      "['6.00']\n",
      "['4.00']\n",
      "['9.00']\n",
      "['2.00']\n",
      "['0.00']\n"
     ]
    }
   ],
   "source": [
    "estado = Matriz(6,1,[[(6,0)], [(5,0)], [(4,0)], [(3,0)], [(2,0)], [(1,0)]])\n",
    "dinamica = Matriz(6,6)\n",
    "lista = [5,2,3,1,4,2]\n",
    "for i in range(dinamica.filas):\n",
    "    dinamica[lista[i],i] = Complejo(1,0)\n",
    "f = procesar(dinamica, estado,3000)\n",
    "print(f)"
   ]
  },
  {
   "cell_type": "code",
   "execution_count": 58,
   "metadata": {},
   "outputs": [
    {
     "name": "stdout",
     "output_type": "stream",
     "text": [
      "0.1765432098765432 0.1845679012345679\n",
      "\n",
      "['0.07']\n",
      "['0.07']\n",
      "['0.18']\n",
      "['0.18']\n",
      "['0.24']\n",
      "['0.26']\n",
      "0.17433699131229993 0.1752000457247371\n",
      "['0.11']\n",
      "['0.11']\n",
      "['0.17']\n",
      "['0.18']\n",
      "['0.21']\n",
      "['0.21']\n"
     ]
    }
   ],
   "source": [
    "def procesarProbabilidad(sistemaA, sistemaB, estadoA, estadoB, t):\n",
    "    dinamica = sistemaA.productoTensor(sistemaB)\n",
    "    estado = estadoA.productoTensor(estadoB)\n",
    "    \n",
    "    for i in range(t):\n",
    "        estado = dinamica*estado\n",
    "    return estado\n",
    "posicion = Matriz(3,3, [[(0,0), (1/6,0), (5/6,0)], [(1/3,0), (1/2, 0), (1/6,0)],[(2/3,0) ,(1/3,0), (0,0)]])\n",
    "animo = Matriz(2,2, [[(1/3,0), (2/3,0)], [(2/3,0), (1/3,0)]])\n",
    "estadoP = Matriz(3,1, [[(1,0)], [(0,0)], [(0,0)]])\n",
    "estadoA = Matriz(2,1, [[(0.8,0)], [(0.2,0)]])\n",
    "res = procesarProbabilidad(posicion, animo, estadoP, estadoA, 3)\n",
    "\n",
    "print(res[2,0].parteReal, res[3,0].parteReal)\n",
    "print()\n",
    "print(res)\n",
    "res = procesarProbabilidad(posicion, animo, estadoP, estadoA, 5)\n",
    "print(res[2,0].parteReal, res[3,0].parteReal)\n",
    "print(res)"
   ]
  },
  {
   "cell_type": "code",
   "execution_count": null,
   "metadata": {},
   "outputs": [],
   "source": []
  }
 ],
 "metadata": {
  "kernelspec": {
   "display_name": "Python 3",
   "language": "python",
   "name": "python3"
  },
  "language_info": {
   "codemirror_mode": {
    "name": "ipython",
    "version": 3
   },
   "file_extension": ".py",
   "mimetype": "text/x-python",
   "name": "python",
   "nbconvert_exporter": "python",
   "pygments_lexer": "ipython3",
   "version": "3.7.3"
  }
 },
 "nbformat": 4,
 "nbformat_minor": 2
}
