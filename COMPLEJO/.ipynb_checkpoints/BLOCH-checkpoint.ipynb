{
 "cells": [
  {
   "cell_type": "code",
   "execution_count": 5,
   "metadata": {},
   "outputs": [],
   "source": [
    "%run COMPLEJO.ipynb\n",
    "%run VECTOR_MATRIZ.ipynb\n",
    "%run COMPLEJO.ipynb"
   ]
  },
  {
   "cell_type": "code",
   "execution_count": 6,
   "metadata": {},
   "outputs": [],
   "source": [
    "import unittest\n",
    "import math\n",
    "import matplotlib.pyplot as plt\n",
    "import numpy as np"
   ]
  },
  {
   "cell_type": "code",
   "execution_count": 33,
   "metadata": {},
   "outputs": [],
   "source": [
    "class Bloch:\n",
    "    @staticmethod\n",
    "    def angulo(vector):\n",
    "        norma= vector.norma()\n",
    "        vector = vector*norma\n",
    "        x = vector[0,0].modulo()\n",
    "        y = vector[1,0].modulo()\n",
    "        angulo=Complejo.obtenerAngulo(x,y)\n",
    "        return angulo\n",
    "    @staticmethod\n",
    "    def fase(vector):  \n",
    "        norma= vector.norma()\n",
    "        vector = vector*norma\n",
    "        t1= Complejo.obtenerAngulo(vector[0,0].parteReal,vector[0,0].parteImaginaria)\n",
    "        t2= Complejo.obtenerAngulo(vector[1,0].parteReal,vector[1,0].parteImaginaria)\n",
    "        return t2-t1\n",
    "    "
   ]
  },
  {
   "cell_type": "code",
   "execution_count": 35,
   "metadata": {},
   "outputs": [
    {
     "name": "stdout",
     "output_type": "stream",
     "text": [
      "['0.61 +0.61i']\n",
      "['-0.25 +0.43i']\n",
      "0.5235987755982989\n",
      "1.3089969389957474\n"
     ]
    }
   ],
   "source": [
    "raiz=math.sqrt(3/2)/2\n",
    "a = Matriz(2,1, [[(raiz, raiz)], [(-1/4, math.sqrt(3)/4)]])\n",
    "print(a)\n",
    "print(Bloch.angulo(a))\n",
    "print(Bloch.fase(a))"
   ]
  },
  {
   "cell_type": "code",
   "execution_count": null,
   "metadata": {},
   "outputs": [],
   "source": []
  }
 ],
 "metadata": {
  "kernelspec": {
   "display_name": "Python 3",
   "language": "python",
   "name": "python3"
  },
  "language_info": {
   "codemirror_mode": {
    "name": "ipython",
    "version": 3
   },
   "file_extension": ".py",
   "mimetype": "text/x-python",
   "name": "python",
   "nbconvert_exporter": "python",
   "pygments_lexer": "ipython3",
   "version": "3.7.3"
  }
 },
 "nbformat": 4,
 "nbformat_minor": 2
}
