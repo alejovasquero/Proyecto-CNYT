{
 "cells": [
  {
   "cell_type": "code",
   "execution_count": 14,
   "metadata": {},
   "outputs": [],
   "source": [
    "%run SISTEMAS_CLA_PROB_CUAN.ipynb\n",
    "%run VECTOR_MATRIZ.ipynb"
   ]
  },
  {
   "cell_type": "code",
   "execution_count": 15,
   "metadata": {},
   "outputs": [],
   "source": [
    "import unittest\n",
    "import math\n",
    "import matplotlib.pyplot as plt\n",
    "import numpy as np"
   ]
  },
  {
   "cell_type": "code",
   "execution_count": 16,
   "metadata": {
    "scrolled": true
   },
   "outputs": [
    {
     "data": {
      "image/png": "[encoded data removed]",
      "text/plain": [
       "<Figure size 432x288 with 1 Axes>"
      ]
     },
     "metadata": {
      "needs_background": "light"
     },
     "output_type": "display_data"
    },
    {
     "name": "stderr",
     "output_type": "stream",
     "text": [
      "."
     ]
    },
    {
     "data": {
      "image/png": "[encoded data removed]",
      "text/plain": [
       "<Figure size 432x288 with 1 Axes>"
      ]
     },
     "metadata": {
      "needs_background": "light"
     },
     "output_type": "display_data"
    },
    {
     "data": {
      "image/png": "[encoded data removed]",
      "text/plain": [
       "<Figure size 432x288 with 1 Axes>"
      ]
     },
     "metadata": {
      "needs_background": "light"
     },
     "output_type": "display_data"
    },
    {
     "name": "stderr",
     "output_type": "stream",
     "text": [
      "."
     ]
    },
    {
     "data": {
      "image/png": "[encoded data removed]",
      "text/plain": [
       "<Figure size 432x288 with 1 Axes>"
      ]
     },
     "metadata": {
      "needs_background": "light"
     },
     "output_type": "display_data"
    },
    {
     "name": "stderr",
     "output_type": "stream",
     "text": [
      ".\n",
      "----------------------------------------------------------------------\n",
      "Ran 3 tests in 0.618s\n",
      "\n",
      "OK\n"
     ]
    },
    {
     "data": {
      "text/plain": [
       "<unittest.runner.TextTestResult run=3 errors=0 failures=0>"
      ]
     },
     "execution_count": 16,
     "metadata": {},
     "output_type": "execute_result"
    }
   ],
   "source": [
    "class SystemsTest(unittest.TestCase): \n",
    "    \n",
    "    def test_deberiaClasico(self):\n",
    "        M = Matriz(13,13,[[[0,0],[0,0],[0,0],[0,0],[0,0],[0,0],[0,0],[0,0],[0,0],[0,0],[0,0],[0,0],[1,0]], #0\n",
    "     [[0,0],[0,0],[0,0],[0,0],[0,0],[0,0],[0,0],[0,0],[0,0],[0,0],[1,0],[0,0],[0,0]], #1\n",
    "     [[0,0],[0,0],[0,0],[0,0],[0,0],[0,0],[0,0],[0,0],[0,0],[0,0],[0,0],[1,0],[0,0]], #2 \n",
    "     [[0,0],[0,0],[1,0],[0,0],[0,0],[0,0],[0,0],[0,0],[0,0],[0,0],[0,0],[0,0],[0,0]], #3\n",
    "     [[0,0],[0,0],[0,0],[1,0],[0,0],[0,0],[0,0],[0,0],[0,0],[0,0],[0,0],[0,0],[0,0]], #4 \n",
    "     [[0,0],[0,0],[0,0],[0,0],[0,0],[0,0],[1,0],[0,0],[0,0],[0,0],[0,0],[0,0],[0,0]], #5\n",
    "     [[0,0],[0,0],[0,0],[0,0],[0,0],[1,0],[0,0],[0,0],[0,0],[1,0],[0,0],[0,0],[0,0]], #6\n",
    "     [[0,0],[0,0],[0,0],[0,0],[1,0],[0,0],[0,0],[0,0],[0,0],[0,0],[0,0],[0,0],[0,0]], #7\n",
    "     [[0,0],[1,0],[0,0],[0,0],[0,0],[0,0],[0,0],[0,0],[0,0],[0,0],[0,0],[0,0],[0,0]], #8\n",
    "     [[1,0],[0,0],[0,0],[0,0],[0,0],[0,0],[0,0],[0,0],[0,0],[0,0],[0,0],[0,0],[0,0]], #9\n",
    "     [[0,0],[0,0],[0,0],[0,0],[0,0],[0,0],[0,0],[0,0],[1,0],[0,0],[0,0],[0,0],[0,0]], #10\n",
    "     [[0,0],[0,0],[0,0],[0,0],[0,0],[0,0],[0,0],[1,0],[0,0],[0,0],[0,0],[0,0],[0,0]], #11\n",
    "     [[0,0],[0,0],[0,0],[0,0],[0,0],[0,0],[0,0],[0,0],[0,0],[0,0],[0,0],[0,0],[0,0]]]  )\n",
    "        V = Matriz(13,1,[[[10,0]],  #0\n",
    "     [[4,0]],   #1\n",
    "     [[1,0]],   #2\n",
    "     [[7,0]],   #3\n",
    "     [[2,0]],   #4\n",
    "     [[2,0]],   #5\n",
    "     [[11,0]],  #6\n",
    "     [[0,0]],   #7\n",
    "     [[3,0]],   #8\n",
    "     [[1,0]],   #9\n",
    "     [[0,0]],   #10\n",
    "     [[5,0]],   #11\n",
    "     [[2,0]]])\n",
    "    \n",
    "        a = Systems(Systems.CLASSIC, M, V, 25)\n",
    "        self.assertTrue(a.state[0]==True)\n",
    "        a.showGraphic()\n",
    "    \n",
    "    \n",
    "    def test_deberiaEnsamblar(self):\n",
    "        # Matriz de la dinámica para el sistema probabilístico A\n",
    "        MA = Matriz(4,4,[[[0,0],[0.2,0],[0.3,0],[0.5,0]],\n",
    "      [[0.3,0],[0.2,0],[0.1,0],[0.4,0]],\n",
    "      [[0.4,0],[0.3,0],[0.2,0],[0.1,0]],\n",
    "      [[0.3,0],[0.3,0],[0.4,0],[0,0]]\n",
    "     ])\n",
    "\n",
    "        # Matriz de la dinámica para el sistema probabilístico B\n",
    "        MB = Matriz(3,3,[[[0,0],[1/6,0],[5/6,0]], \n",
    "      [[1/3,0],[1/2,0],[1/6,0]], \n",
    "      [[2/3,0],[1/3,0],[0,0]] \n",
    "     ])\n",
    "\n",
    "# Vector de estado inicial sistema probabilístico A\n",
    "        VA = Matriz(4,1,[[[0.2,0]],[[0.1,0]],[[0.6,0]],[[0.1,0]]])\n",
    "\n",
    "# Vector de estado inicial sistema probabilístico B\n",
    "        VB = Matriz(3,1,[[[0.7,0]],[[0.15,0]],[[0.15,0]]])\n",
    "        a=Systems.assembleSystems(MA, VA, MB, VB, 5) \n",
    "        self.assertTrue(a.state[0]==True)\n",
    "        a.showGraphic()\n",
    "    \n",
    "   \n",
    "    \n",
    "    def test_deberiaCrearRendija(self):\n",
    "        r=1/(22**0.5)\n",
    "        vector = Matriz(11,1, [[[r,r]],   #1\n",
    "     [[-r,-r]], #2\n",
    "     [[-r,r]],  #3\n",
    "     [[-r,-r]], #4\n",
    "     [[r,-r]],  #5\n",
    "     [[-r,-r]], #6\n",
    "     [[-r,-r]], #7\n",
    "     [[-r,-r]], #8\n",
    "     [[r,-r]],  #9\n",
    "     [[r,-r]],  #10\n",
    "     [[-r,r]]   #11\n",
    "     ])\n",
    "        \n",
    "        \n",
    "        a = Systems.doubleSlit(2, 5, vector)\n",
    "        a.showGraphic()\n",
    "        \n",
    "        self.assertTrue(a.state[0]==True)\n",
    "        \n",
    "        \n",
    "        r=1/(6**0.5)\n",
    "        vector = Matriz(3,1, [   #1\n",
    "     [[-r,r]], #2\n",
    "     [[-r,-r]],  #3\n",
    "     [[r,-r]]#4\n",
    "     ])\n",
    "        a = Systems.doubleSlit(2, 1, vector)\n",
    "        self.assertTrue(a.state[0]==True)\n",
    "        a.showGraphic() \n",
    "        \n",
    "        \n",
    "unittest.TextTestRunner().run(unittest.TestLoader().loadTestsFromTestCase(SystemsTest))\n"
   ]
  },
  {
   "cell_type": "code",
   "execution_count": null,
   "metadata": {
    "collapsed": true
   },
   "outputs": [],
   "source": []
  }
 ],
 "metadata": {
  "kernelspec": {
   "display_name": "Python 3",
   "language": "python",
   "name": "python3"
  },
  "language_info": {
   "codemirror_mode": {
    "name": "ipython",
    "version": 3
   },
   "file_extension": ".py",
   "mimetype": "text/x-python",
   "name": "python",
   "nbconvert_exporter": "python",
   "pygments_lexer": "ipython3",
   "version": "3.7.3"
  }
 },
 "nbformat": 4,
 "nbformat_minor": 2
}
