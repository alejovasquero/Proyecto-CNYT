{
 "cells": [
  {
   "cell_type": "code",
   "execution_count": null,
   "metadata": {},
   "outputs": [],
   "source": [
    "%run SISTEMAS_CLA_PROB_CUAN.ipynb\n",
    "%run VECTOR_MATRIZ.ipynb"
   ]
  },
  {
   "cell_type": "code",
   "execution_count": 63,
   "metadata": {
    "collapsed": true
   },
   "outputs": [],
   "source": [
    "import unittest\n",
    "import math\n",
    "import matplotlib.pyplot as plt\n",
    "import numpy as np"
   ]
  },
  {
   "cell_type": "code",
   "execution_count": 90,
   "metadata": {
    "scrolled": false
   },
   "outputs": [
    {
     "name": "stderr",
     "output_type": "stream",
     "text": [
      "E..\n",
      "======================================================================\n",
      "ERROR: test_deberiaClasico (__main__.SystemsTest)\n",
      "----------------------------------------------------------------------\n",
      "Traceback (most recent call last):\n",
      "  File \"<ipython-input-90-c9d7c368fdc0>\", line 33, in test_deberiaClasico\n",
      "    a.showGraphic()\n",
      "  File \"<ipython-input-89-223f98220620>\", line 205, in showGraphic\n",
      "    datos=self.obtenerDatos()\n",
      "  File \"<ipython-input-89-223f98220620>\", line 200, in obtenerDatos\n",
      "    for i in range(self.state[0].filas):\n",
      "AttributeError: 'bool' object has no attribute 'filas'\n",
      "\n",
      "----------------------------------------------------------------------\n",
      "Ran 3 tests in 0.129s\n",
      "\n",
      "FAILED (errors=1)\n"
     ]
    },
    {
     "data": {
      "text/plain": [
       "<unittest.runner.TextTestResult run=3 errors=1 failures=0>"
      ]
     },
     "execution_count": 90,
     "metadata": {},
     "output_type": "execute_result"
    }
   ],
   "source": [
    "class SystemsTest(unittest.TestCase): \n",
    "    \n",
    "    def test_deberiaClasico(self):\n",
    "        M = Matriz(13,13,[[[0,0],[0,0],[0,0],[0,0],[0,0],[0,0],[0,0],[0,0],[0,0],[0,0],[0,0],[0,0],[1,0]], #0\n",
    "     [[0,0],[0,0],[0,0],[0,0],[0,0],[0,0],[0,0],[0,0],[0,0],[0,0],[1,0],[0,0],[0,0]], #1\n",
    "     [[0,0],[0,0],[0,0],[0,0],[0,0],[0,0],[0,0],[0,0],[0,0],[0,0],[0,0],[1,0],[0,0]], #2 \n",
    "     [[0,0],[0,0],[1,0],[0,0],[0,0],[0,0],[0,0],[0,0],[0,0],[0,0],[0,0],[0,0],[0,0]], #3\n",
    "     [[0,0],[0,0],[0,0],[1,0],[0,0],[0,0],[0,0],[0,0],[0,0],[0,0],[0,0],[0,0],[0,0]], #4 \n",
    "     [[0,0],[0,0],[0,0],[0,0],[0,0],[0,0],[1,0],[0,0],[0,0],[0,0],[0,0],[0,0],[0,0]], #5\n",
    "     [[0,0],[0,0],[0,0],[0,0],[0,0],[1,0],[0,0],[0,0],[0,0],[1,0],[0,0],[0,0],[0,0]], #6\n",
    "     [[0,0],[0,0],[0,0],[0,0],[1,0],[0,0],[0,0],[0,0],[0,0],[0,0],[0,0],[0,0],[0,0]], #7\n",
    "     [[0,0],[1,0],[0,0],[0,0],[0,0],[0,0],[0,0],[0,0],[0,0],[0,0],[0,0],[0,0],[0,0]], #8\n",
    "     [[1,0],[0,0],[0,0],[0,0],[0,0],[0,0],[0,0],[0,0],[0,0],[0,0],[0,0],[0,0],[0,0]], #9\n",
    "     [[0,0],[0,0],[0,0],[0,0],[0,0],[0,0],[0,0],[0,0],[1,0],[0,0],[0,0],[0,0],[0,0]], #10\n",
    "     [[0,0],[0,0],[0,0],[0,0],[0,0],[0,0],[0,0],[1,0],[0,0],[0,0],[0,0],[0,0],[0,0]], #11\n",
    "     [[0,0],[0,0],[0,0],[0,0],[0,0],[0,0],[0,0],[0,0],[0,0],[0,0],[0,0],[0,0],[0,0]]]  )\n",
    "        V = Matriz(13,1,[[[10,0]],  #0\n",
    "     [[4,0]],   #1\n",
    "     [[1,0]],   #2\n",
    "     [[7,0]],   #3\n",
    "     [[2,0]],   #4\n",
    "     [[2,0]],   #5\n",
    "     [[11,0]],  #6\n",
    "     [[0,0]],   #7\n",
    "     [[3,0]],   #8\n",
    "     [[1,0]],   #9\n",
    "     [[0,0]],   #10\n",
    "     [[5,0]],   #11\n",
    "     [[2,0]]])\n",
    "    \n",
    "        a = Systems(Systems.CLASSIC, M, V, 2)\n",
    "        self.assertTrue(a.state[0]==True)\n",
    "        a.showGraphic()\n",
    "    \n",
    "    \n",
    "    \n",
    "    def test_deberiaCrearSistemaClásico(self):\n",
    "        a = Matriz(3,3, [[0,0,0], [1,0,0], [0,1,1]])\n",
    "        \n",
    "        #self.assertEqual(a, Complejo(99,-99)+Complejo(-99,99))\n",
    "        #self.assertEqual(a,  Complejo(-0, 1)+Complejo(+0,-1))\n",
    "        #self.assertEqual(a, Complejo(+0,+0)+Complejo(-0,-0))\n",
    "    \n",
    "    \n",
    "    \n",
    "    def test_deberiaCrearRendija(self):\n",
    "        r=1/(22**0.5)\n",
    "        vector = Matriz(11,1, [[[r,r]],   #1\n",
    "     [[-r,-r]], #2\n",
    "     [[-r,r]],  #3\n",
    "     [[-r,-r]], #4\n",
    "     [[r,-r]],  #5\n",
    "     [[-r,-r]], #6\n",
    "     [[-r,-r]], #7\n",
    "     [[-r,-r]], #8\n",
    "     [[r,-r]],  #9\n",
    "     [[r,-r]],  #10\n",
    "     [[-r,r]]   #11\n",
    "     ])\n",
    "        \n",
    "        \n",
    "        a = Systems.doubleSlit(2, 5, vector)\n",
    "        \n",
    "        \n",
    "        self.assertTrue(a.state[0]==True)\n",
    "        \n",
    "        \n",
    "unittest.TextTestRunner().run(unittest.TestLoader().loadTestsFromTestCase(SystemsTest))\n"
   ]
  },
  {
   "cell_type": "code",
   "execution_count": null,
   "metadata": {
    "collapsed": true
   },
   "outputs": [],
   "source": []
  }
 ],
 "metadata": {
  "kernelspec": {
   "display_name": "Python 3",
   "language": "python",
   "name": "python3"
  },
  "language_info": {
   "codemirror_mode": {
    "name": "ipython",
    "version": 3
   },
   "file_extension": ".py",
   "mimetype": "text/x-python",
   "name": "python",
   "nbconvert_exporter": "python",
   "pygments_lexer": "ipython3",
   "version": "3.6.3"
  }
 },
 "nbformat": 4,
 "nbformat_minor": 2
}
