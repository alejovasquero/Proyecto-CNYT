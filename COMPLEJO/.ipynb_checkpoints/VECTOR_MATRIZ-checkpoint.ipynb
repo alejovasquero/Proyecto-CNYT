{
 "cells": [
  {
   "cell_type": "code",
   "execution_count": 3,
   "metadata": {},
   "outputs": [
    {
     "name": "stdout",
     "output_type": "stream",
     "text": [
      "24.00\n",
      "3.20 + 10.30i\n",
      "-18.22 + 28.79i\n",
      "-0.96 + 2.08i\n",
      "( 2.23607  ,  2.03444)\n",
      "2.83 -2.83i\n",
      "2.20 +6.00i\n"
     ]
    },
    {
     "data": {
      "text/plain": [
       "<Figure size 640x480 with 1 Axes>"
      ]
     },
     "metadata": {},
     "output_type": "display_data"
    }
   ],
   "source": [
    "%run COMPLEJO.ipynb\n",
    "import math\n",
    "from math import pi"
   ]
  },
  {
   "cell_type": "code",
   "execution_count": 59,
   "metadata": {
    "collapsed": true
   },
   "outputs": [],
   "source": [
    "a = Complejo(1,2)"
   ]
  },
  {
   "cell_type": "code",
   "execution_count": 60,
   "metadata": {
    "collapsed": true
   },
   "outputs": [],
   "source": [
    "b = Complejo(0,1)"
   ]
  },
  {
   "cell_type": "code",
   "execution_count": 61,
   "metadata": {},
   "outputs": [
    {
     "name": "stdout",
     "output_type": "stream",
     "text": [
      "2.00 + -1.00i\n"
     ]
    }
   ],
   "source": [
    "print(a/b)"
   ]
  },
  {
   "cell_type": "code",
   "execution_count": 7,
   "metadata": {},
   "outputs": [
    {
     "name": "stdout",
     "output_type": "stream",
     "text": [
      "-0.96 +2.08i\n",
      "-0.96 +2.08i\n"
     ]
    }
   ],
   "source": [
    "a = Complejo(3.2, 4)\n",
    "b = Complejo(1,-2)\n",
    "print(Complejo.division(a,b))\n",
    "print(a/b)"
   ]
  },
  {
   "cell_type": "code",
   "execution_count": 8,
   "metadata": {},
   "outputs": [
    {
     "name": "stdout",
     "output_type": "stream",
     "text": [
      "1.00 +1.00i\n"
     ]
    }
   ],
   "source": [
    "a = Complejo(-1,0)\n",
    "b = Complejo(2,1)\n",
    "print(a+b)"
   ]
  },
  {
   "cell_type": "code",
   "execution_count": 4,
   "metadata": {},
   "outputs": [],
   "source": [
    "class Vector:\n",
    "    def __init__(self,filas=1, matrix = None):\n",
    "        self.matriz = None\n",
    "        self.filas=filas\n",
    "        if(matrix!=None and len(matrix)==filas and filas>=1 and not type(matrix[0]) is list):\n",
    "            self.matriz = matrix\n",
    "            self.filas=filas\n",
    "        elif(filas>0):\n",
    "            self.filas = filas \n",
    "            self.matriz = [Complejo(0,0)]*self.filas\n",
    "        else: \n",
    "            raise Exception(\"Formato no válido\")\n",
    "            \n",
    "    def __getitem__(self,b):\n",
    "        return self.matriz[b]\n",
    "    def __setitem__(self, key, value):\n",
    "        self.matriz[key]=value\n",
    "        \n",
    "        \n",
    "    def __str__(self):\n",
    "        ans = []\n",
    "        for i in self.matriz:\n",
    "            ans.append(str(i))\n",
    "        return str(ans)\n",
    "    \n",
    "    \n",
    "    #   1)Adición de vectores complejos.\n",
    "    def __add__(self, b):\n",
    "        if(self.filas!=b.filas):\n",
    "            raise Exception(\"Deben ser del mismo tamaño\")\n",
    "        else:\n",
    "            ans = Vector(self.filas)\n",
    "            for i in range(self.filas):\n",
    "                ans[i] = self[i] + b[i]\n",
    "            return ans\n",
    "    # 2) Inversa de vectores complejos.\n",
    "    def inverso(self):\n",
    "        return Vector(self.filas, [Complejo.conjugado(i) for i in self.matriz])\n",
    "       \n",
    "    # 3) Multiplicación escalar de vectores complejos.    \n",
    "    def __mul__(self, b):\n",
    "        return Vector(self.filas, [b*i for i in self.matriz])\n",
    "    def __rmul__(self,b):\n",
    "        return self.__mul__(b)\n",
    "        \n",
    "    \n",
    "    \n",
    "            "
   ]
  },
  {
   "cell_type": "code",
   "execution_count": 13,
   "metadata": {},
   "outputs": [
    {
     "name": "stdout",
     "output_type": "stream",
     "text": [
      "['-1.00 +3.00i', '-2.00 +6.00i', '-1.00 +3.00i']\n"
     ]
    }
   ],
   "source": [
    "lista = [Complejo(1,2), Complejo(2,4), Complejo(1,2)]\n",
    "a= Vector(3, lista)\n",
    "b = Vector(3, lista)\n",
    "print(a*Complejo(1,1))"
   ]
  },
  {
   "cell_type": "code",
   "execution_count": 83,
   "metadata": {},
   "outputs": [],
   "source": [
    "class Matriz:\n",
    "    def __init__(self, filas, columnas, matriz=None):\n",
    "        self.columnas = columnas\n",
    "        self.filas = filas\n",
    "        self.matriz = []\n",
    "        if(matriz == None):\n",
    "            aux=[]\n",
    "            for i in range(filas):\n",
    "                for j in range(columnas):\n",
    "                    aux.append(Complejo(0,0))\n",
    "                self.matriz.append(aux)\n",
    "                aux = []\n",
    "            \n",
    "            \n",
    "        elif(filas == len(matriz) and len(matriz[0])==columnas):\n",
    "            aux = []\n",
    "             \n",
    "            for i in range(filas):\n",
    "                for j in range(columnas):\n",
    "                    aux.append(Complejo.complejoDe(matriz[i][j]))\n",
    "                self.matriz.append(aux)\n",
    "                aux = []\n",
    "                \n",
    "             \n",
    "                \n",
    "                    \n",
    "        else:\n",
    "            raise Exception(\"Tamaño incorrecto\")\n",
    "    \n",
    "    def __str__(self):\n",
    "        answer = \"\"\n",
    "        ans = [None]*self.columnas\n",
    "        for i in range(self.filas):\n",
    "            for j in range(self.columnas):\n",
    "                ans[j] = str(self.matriz[i][j])\n",
    "                \n",
    "             \n",
    "            answer = answer +str(ans)+\"\\n\" \n",
    "            ans = ans.copy()\n",
    "        return str(answer.strip())\n",
    "    \n",
    "    def __add__(self, b):\n",
    "        if(not(\"Matriz\" in  str(b.__class__))):\n",
    "            raise Exception(\"Operación inválida\")\n",
    "        elif(not (self.filas == b.filas and self.columnas == b.columnas)):\n",
    "            raise Exception(\"Tamaño inválido\")\n",
    "        else:\n",
    "            ans = Matriz(self.filas,self.columnas)\n",
    "            for i in range(self.filas):\n",
    "                for j in range(self.columnas):\n",
    "                    ans[i,j] = self[i,j] + b[i,j]\n",
    "            return ans\n",
    "                    \n",
    "    def __getitem__(self,tup):\n",
    "        return self.matriz[tup[0]][tup[1]]\n",
    "    def __setitem__(self, tup, value):\n",
    "        self.matriz[tup[0]][tup[1]]=value\n",
    "    \n",
    "    def multiplicar(self,b):\n",
    "        if(self.columnas!=self.filas):\n",
    "            raise Exception(\"El numero de columnas de la primera debe ser igual al numero de filas de la segunda\")\n",
    "        else:\n",
    "            ans = Matriz(self.filas, b.columnas)\n",
    "            for i in range(self.filas):\n",
    "                for j in range(b.columnas):\n",
    "                    ans[i,j]= self.obtenerSuma(b,i,j)\n",
    "            return ans\n",
    "                    \n",
    "    def obtenerSuma(self,b,i,j):\n",
    "        suma = Complejo(0,0)\n",
    "        for t in range(self.columnas):\n",
    "            suma+= self[i,t]*b[t,j]\n",
    "        return suma\n",
    "            \n",
    "    def __mul__(self, b):\n",
    "        if(\"Matriz\" in  str(b.__class__)):\n",
    "            return self.multiplicar(b)\n",
    "            "
   ]
  },
  {
   "cell_type": "code",
   "execution_count": 84,
   "metadata": {},
   "outputs": [],
   "source": [
    "a = Matriz(3,3, [[(3,0) , (1, 2), (0,-1)], [(2,-1) , (0, 0), (1,0)], [(0,0) , (4, 3), (0,1)]])"
   ]
  },
  {
   "cell_type": "code",
   "execution_count": 85,
   "metadata": {},
   "outputs": [],
   "source": [
    "b = Matriz(3,1,[[(1,0)],[(1,-2)],[(0,-1)]])"
   ]
  },
  {
   "cell_type": "code",
   "execution_count": 78,
   "metadata": {},
   "outputs": [
    {
     "name": "stdout",
     "output_type": "stream",
     "text": [
      "['1.00', '1.00']\n",
      "['1.00', '0.00']\n"
     ]
    }
   ],
   "source": [
    "A = Matriz(2,2,[[(1,0),(1,0)],[(1,0),(0,0)]])\n",
    "print(A)"
   ]
  },
  {
   "cell_type": "code",
   "execution_count": null,
   "metadata": {},
   "outputs": [],
   "source": []
  },
  {
   "cell_type": "code",
   "execution_count": 99,
   "metadata": {},
   "outputs": [],
   "source": [
    "B= Matriz(2,2,[[(1,0),(0,0)],[(0,0),(1,0)]])"
   ]
  },
  {
   "cell_type": "code",
   "execution_count": null,
   "metadata": {},
   "outputs": [],
   "source": []
  },
  {
   "cell_type": "code",
   "execution_count": null,
   "metadata": {},
   "outputs": [],
   "source": []
  },
  {
   "cell_type": "code",
   "execution_count": null,
   "metadata": {},
   "outputs": [],
   "source": []
  },
  {
   "cell_type": "code",
   "execution_count": 100,
   "metadata": {},
   "outputs": [
    {
     "name": "stdout",
     "output_type": "stream",
     "text": [
      "['1.00', '1.00']\n",
      "['1.00', '0.00']\n",
      "\n",
      "['2.00', '1.00']\n",
      "['1.00', '1.00']\n",
      "\n",
      "['3.00', '2.00']\n",
      "['2.00', '1.00']\n",
      "\n",
      "['5.00', '3.00']\n",
      "['3.00', '2.00']\n",
      "\n",
      "['8.00', '5.00']\n",
      "['5.00', '3.00']\n",
      "\n",
      "['13.00', '8.00']\n",
      "['8.00', '5.00']\n",
      "\n",
      "['21.00', '13.00']\n",
      "['13.00', '8.00']\n",
      "\n",
      "['34.00', '21.00']\n",
      "['21.00', '13.00']\n",
      "\n",
      "['55.00', '34.00']\n",
      "['34.00', '21.00']\n",
      "\n",
      "['89.00', '55.00']\n",
      "['55.00', '34.00']\n",
      "\n",
      "['144.00', '89.00']\n",
      "['89.00', '55.00']\n",
      "\n",
      "['233.00', '144.00']\n",
      "['144.00', '89.00']\n",
      "\n",
      "['377.00', '233.00']\n",
      "['233.00', '144.00']\n",
      "\n",
      "['610.00', '377.00']\n",
      "['377.00', '233.00']\n",
      "\n",
      "['987.00', '610.00']\n",
      "['610.00', '377.00']\n",
      "\n",
      "['1597.00', '987.00']\n",
      "['987.00', '610.00']\n",
      "\n",
      "16\n"
     ]
    }
   ],
   "source": [
    "k=0\n",
    "while(B[0,0].parteReal<=1000):\n",
    "    B = B*A\n",
    "    print(B)\n",
    "    print()\n",
    "    k+=1\n",
    "print(k)"
   ]
  },
  {
   "cell_type": "code",
   "execution_count": null,
   "metadata": {},
   "outputs": [],
   "source": []
  },
  {
   "cell_type": "code",
   "execution_count": null,
   "metadata": {},
   "outputs": [],
   "source": []
  },
  {
   "cell_type": "code",
   "execution_count": null,
   "metadata": {},
   "outputs": [],
   "source": []
  }
 ],
 "metadata": {
  "kernelspec": {
   "display_name": "Python 3",
   "language": "python",
   "name": "python3"
  },
  "language_info": {
   "codemirror_mode": {
    "name": "ipython",
    "version": 3
   },
   "file_extension": ".py",
   "mimetype": "text/x-python",
   "name": "python",
   "nbconvert_exporter": "python",
   "pygments_lexer": "ipython3",
   "version": "3.7.3"
  }
 },
 "nbformat": 4,
 "nbformat_minor": 2
}
