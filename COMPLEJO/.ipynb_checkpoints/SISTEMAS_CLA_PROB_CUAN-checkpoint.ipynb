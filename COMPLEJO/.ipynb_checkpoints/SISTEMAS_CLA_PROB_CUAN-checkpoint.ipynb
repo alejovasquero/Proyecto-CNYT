{
 "cells": [
  {
   "cell_type": "code",
   "execution_count": 18,
   "metadata": {},
   "outputs": [],
   "source": [
    "%run COMPLEJO.ipynb\n",
    "%run VECTOR_MATRIZ.ipynb"
   ]
  },
  {
   "cell_type": "code",
   "execution_count": 19,
   "metadata": {
    "collapsed": true
   },
   "outputs": [],
   "source": [
    "import unittest\n",
    "import math\n",
    "import matplotlib.pyplot as plt\n",
    "import numpy as np"
   ]
  },
  {
   "cell_type": "code",
   "execution_count": 74,
   "metadata": {},
   "outputs": [],
   "source": [
    "class Systems:\n",
    "    CLASSIC = 0\n",
    "    PROBABILISTIC = 1\n",
    "    QUANTUM = 2\n",
    "    \n",
    "    INVALID_SYSTEM = \"The system is not valid\"\n",
    "    INCORRECT_FORMAT = \"The matriz doesn't match de system format\"\n",
    "    INVALID_VECTOR = \"The vector is not valid\"\n",
    "    @staticmethod\n",
    "    def verifySystem(matrix, systemType):\n",
    "        ans = False\n",
    "        if(systemType==Systems.CLASSIC):\n",
    "            ans = Systems.verifyClassic(matrix)\n",
    "        elif(systemType==Systems.PROBABILISTIC):\n",
    "            ans = Systems.verifyProbabilistic(matrix)\n",
    "        elif(systemType==Systems.QUANTUM):\n",
    "            ans = Systems.verifyQuantum(matrix)\n",
    "        else: \n",
    "            raise Exception(Systems.INVALID_SYSTEM)\n",
    "        return ans\n",
    "    \n",
    "    @staticmethod\n",
    "    def verifyClassic(matrix):\n",
    "        isValid = True\n",
    "        one = Complejo(1,0)\n",
    "        zero = Complejo(0,0)\n",
    "        columnSum = Complejo(0,0)\n",
    "        j = 0\n",
    "        while(j<matrix.columnas and isValid):\n",
    "            i=0\n",
    "            while(i<matrix.filas and isValid):\n",
    "                isValid = isValid and (matrix[i,j]==one or matrix[i,j]==zero)\n",
    "                columnSum+=matrix[i,j]\n",
    "                i+=1\n",
    "            isValid= isValid and columnSum==one\n",
    "            j+=1\n",
    "        return isValid\n",
    "            \n",
    "    @staticmethod\n",
    "    def verificarColumnasEstocasticas(matrix):\n",
    "        isValid = True\n",
    "        one = Complejo(1,0)\n",
    "        zero = Complejo(0,0)\n",
    "        columnSum = Complejo(0,0)\n",
    "        j = 0\n",
    "        while(j<matrix.columnas and isValid):\n",
    "            i=0\n",
    "            while(i<matrix.filas and isValid):\n",
    "                s = matrix[i,j].parteReal\n",
    "                isValid = isValid and matrix[i,j].parteImaginaria==0 and s>=0 and s<=1\n",
    "                columnSum+=matrix[i,j]\n",
    "                i+=1\n",
    "            isValid= isValid and columnSum==one\n",
    "            columnSum=Complejo(0,0)\n",
    "            j+=1\n",
    "        \n",
    "        return isValid\n",
    "    \n",
    "    @staticmethod\n",
    "    def verificarFilasEstocasticas(matrix):\n",
    "        isValid = True\n",
    "        one = Complejo(1,0)\n",
    "        zero = Complejo(0,0)\n",
    "        columnSum = Complejo(0,0)\n",
    "        i = 0\n",
    "        while(i<matrix.filas and isValid):\n",
    "            j=0\n",
    "            while(j<matrix.columnas and isValid):\n",
    "                s = matrix[i,j].parteReal\n",
    "                isValid = isValid and matrix[i,j].parteImaginaria==0 and s>=0 and s<=1\n",
    "                columnSum+=matrix[i,j]\n",
    "                j+=1\n",
    "            isValid= isValid and columnSum==one\n",
    "            columnSum=Complejo(0,0)\n",
    "            i+=1\n",
    "        return isValid\n",
    "    \n",
    "    \n",
    "    @staticmethod\n",
    "    def verifyProbabilistic(matrix):\n",
    "        return Systems.verificarFilasEstocasticas(matrix) and Systems.verificarColumnasEstocasticas(matrix)\n",
    "    \n",
    "    @staticmethod\n",
    "    def verifyQuantum(matrix):\n",
    "        return matriz.esUnitaria()\n",
    "    \n",
    "    \n",
    "    @staticmethod\n",
    "    def verifyVector(state0, systemType):\n",
    "        ans= state0.columnas==1\n",
    "        if(systemType==Systems.CLASSIC):\n",
    "            ans = ans and Systems.verifyClassic(state0)\n",
    "        elif(systemType==Systems.PROBABILISTIC):\n",
    "            ans = ans and Systems.verificarColumnasEstocasticas(state0)\n",
    "        elif(systemType==Systems.QUANTUM):\n",
    "            prueba=Matriz(state0.filas,1)\n",
    "            for i in range(state0.filas):\n",
    "                prueba[i,0]=state0[i,0]*state0[i,0].conjugado()\n",
    "            ans = ans and Systems.verificarColumnasEstocasticas(state0)\n",
    "        else: \n",
    "            raise Exception(Systems.INVALID_VECTOR)\n",
    "        return ans\n",
    "    \n",
    "    def __init__(self, systemType, matrix: Matriz, state0, clicks, statesA=None, statesB=None, assembled=False):\n",
    "        self.state = [True, None, None]\n",
    "        self.statesA=statesA\n",
    "        self.statesB=statesB\n",
    "        self.assembled=assembled\n",
    "        self.type=None\n",
    "        #[0]=isValid system, [1]=matriz^clicks, [2]=state0->final[t]\n",
    "        if(not Systems.verifySystem(matrix, systemType) or matrix.filas==0 or matrix.filas!=matrix.columnas or \n",
    "           not Systems.verifyVector(state0, systemType) or matrix.filas!=state0.filas):\n",
    "            self.state[0]=False\n",
    "        else:\n",
    "            self.state[1]=matrix**clicks\n",
    "            self.state[2]=self.state[1]*state0\n",
    "   \n",
    "    def success(self):\n",
    "        return self.state[0]==True and self.state[1]!=None and self.state[2]!=None\n",
    "    \n",
    "    \n",
    "    @staticmethod\n",
    "    def obtainType(matrix):\n",
    "        ans = -1\n",
    "        if(Systems.verifyClassic(matrix)):\n",
    "            ans = Systems.CLASSIC\n",
    "        elif(Systems.verifyProbabilistic(matrix)):\n",
    "            ans = Systems.PROBABILISTIC\n",
    "        elif(Systems.verifyQuantum(matrix)):\n",
    "            ans = Systems.QUANTUM\n",
    "        return ans\n",
    "    \n",
    "    \n",
    "    @staticmethod\n",
    "    def assembleSystems(systemA, viA, systemB, viB, t):\n",
    "        assembled = systemA.productoTensor(systemB)\n",
    "        statei = viA.productoTensor(viB)\n",
    "        return Systems(Systems.obtainType(systemA), assembled, statei, t, viA.filas, viB.filas, True)\n",
    "    "
   ]
  },
  {
   "cell_type": "code",
   "execution_count": 69,
   "metadata": {},
   "outputs": [
    {
     "name": "stdout",
     "output_type": "stream",
     "text": [
      "['0.36']\n",
      "['0.33']\n",
      "['0.31']\n"
     ]
    }
   ],
   "source": [
    "M = Matriz (3,3, [[0,1/6, 5/6], [1/3, 1/2, 1/6], [2/3, 1/3, 0]])\n",
    "a = Systems(1, M, Matriz(3,1,[[1/5],[7/10],[1/10]]), 4)\n",
    "print(a.state[2])"
   ]
  },
  {
   "cell_type": "code",
   "execution_count": 77,
   "metadata": {},
   "outputs": [
    {
     "name": "stdout",
     "output_type": "stream",
     "text": [
      "['0.10']\n",
      "['0.18']\n",
      "['0.23']\n",
      "['0.10']\n",
      "['0.17']\n",
      "['0.22']\n"
     ]
    }
   ],
   "source": [
    "animo=Matriz(2,2, [[1/3, 2/3], [2/3, 1/3]])\n",
    "posicion=Matriz(3,3, [[0,1/6, 5/6], [1/3, 1/2, 1/6], [2/3, 1/3,0]])\n",
    "a=Systems.assembleSystems(animo, Matriz(3,1,[[0.01],[ 0.9], [0.09]]), posicion, Matriz(2,1, [[0.05],[0.95]]), 3)\n",
    "print(a.state[2])"
   ]
  },
  {
   "cell_type": "code",
   "execution_count": null,
   "metadata": {},
   "outputs": [],
   "source": []
  }
 ],
 "metadata": {
  "kernelspec": {
   "display_name": "Python 3",
   "language": "python",
   "name": "python3"
  },
  "language_info": {
   "codemirror_mode": {
    "name": "ipython",
    "version": 3
   },
   "file_extension": ".py",
   "mimetype": "text/x-python",
   "name": "python",
   "nbconvert_exporter": "python",
   "pygments_lexer": "ipython3",
   "version": "3.6.3"
  }
 },
 "nbformat": 4,
 "nbformat_minor": 2
}
