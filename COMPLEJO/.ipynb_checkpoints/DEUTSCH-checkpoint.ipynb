{
 "cells": [
  {
   "cell_type": "code",
   "execution_count": 3,
   "metadata": {},
   "outputs": [],
   "source": [
    "%run COMPLEJO.ipynb\n",
    "%run VECTOR_MATRIZ.ipynb\n",
    "%run COMPLEJO.ipynb\n",
    "%run SISTEMAS_CLA_PROB_CUAN.ipynb"
   ]
  },
  {
   "cell_type": "code",
   "execution_count": 4,
   "metadata": {},
   "outputs": [
    {
     "name": "stdout",
     "output_type": "stream",
     "text": [
      "['0.00']\n",
      "['0.00']\n",
      "['0.71']\n",
      "['-0.71']\n"
     ]
    },
    {
     "data": {
      "image/png": "[encoded data removed]",
      "text/plain": [
       "<Figure size 432x288 with 1 Axes>"
      ]
     },
     "metadata": {
      "needs_background": "light"
     },
     "output_type": "display_data"
    },
    {
     "data": {
      "text/plain": [
       "[0.0, 0.0, 0.5, 0.5]"
      ]
     },
     "execution_count": 4,
     "metadata": {},
     "output_type": "execute_result"
    }
   ],
   "source": [
    "ada = Matriz(2,2 , [[1/2**0.5, 1/2**0.5], [1/2**0.5, -1/2**0.5]])\n",
    "u01 = Matriz(4,4 ,[[1,0,0,0], [0,1,0,0], [0,0,0,1], [0,0,1,0]])\n",
    "u00 = Matriz(4,4 ,[[1,0,0,0], [0,1,0,0], [0,0,1,0], [0,0,0,1]])\n",
    "u11 = Matriz(4,4 ,[[0,1,0,0], [1,0,0,0], [0,0,0,1], [0,0,1,0]])\n",
    "u10 = Matriz(4,4 ,[[0,1,0,0], [1,0,0,0], [0,0,1,0], [0,0,0,1]])\n",
    "cero = Matriz(2,1, [[1], [0]])\n",
    "uno = Matriz(2,1, [[0], [1]])\n",
    "iden = Matriz(2,2 , [[1,0],[0,1]])\n",
    "\n",
    "HH = ada.productoTensor(ada)\n",
    "HI = ada.productoTensor(iden)\n",
    "\n",
    "phi_0 = cero.productoTensor(uno)\n",
    "phi_1 = phi_0.accion(HH)\n",
    "phi_2 = phi_1.accion(u01)\n",
    "phi_3 = phi_2.accion(HI)\n",
    "print(phi_3)\n",
    "Systems.particulaProbabilidad(2, phi_3)\n",
    "\n"
   ]
  },
  {
   "cell_type": "code",
   "execution_count": 9,
   "metadata": {},
   "outputs": [
    {
     "name": "stdout",
     "output_type": "stream",
     "text": [
      "['0.71']\n",
      "['0.71']\n",
      "['0.00']\n",
      "['0.00']\n",
      "['0.00']\n",
      "['0.00']\n",
      "['0.00']\n",
      "['0.00']\n"
     ]
    },
    {
     "data": {
      "image/png": "[encoded data removed]",
      "text/plain": [
       "<Figure size 432x288 with 1 Axes>"
      ]
     },
     "metadata": {
      "needs_background": "light"
     },
     "output_type": "display_data"
    },
    {
     "data": {
      "text/plain": [
       "[0.5000000000000001, 0.5000000000000001, 0.0, 0.0, 0.0, 0.0, 0.0, 0.0]"
      ]
     },
     "execution_count": 9,
     "metadata": {},
     "output_type": "execute_result"
    }
   ],
   "source": [
    "#DEUTSCH-JOSZA\n",
    "U = Matriz(8,8)\n",
    "U[0,0]=Complejo(1,0)\n",
    "U[1,1]=Complejo(1,0)\n",
    "U[2,2]=Complejo(1,0)\n",
    "U[3,3]=Complejo(1,0)\n",
    "U[5,4]=Complejo(1,0)\n",
    "U[4,5]=Complejo(1,0)\n",
    "U[6,6]=Complejo(1,0)\n",
    "U[7,7]=Complejo(1,0)\n",
    "I2=Matriz(2,2,[[1,0],[0,1]])\n",
    "r2=1/2**0.5\n",
    "H=Matriz(2,2, [[r2,r2], [r2, -r2]])\n",
    "HHH = H.productoTensor(H).productoTensor(H)\n",
    "HHI = H.productoTensor(H).productoTensor(I2)\n",
    "cero = Matriz(2,1, [[1],[0]])\n",
    "uno = Matriz(2,1, [[0],[1]])\n",
    "phi_0=cero.productoTensor(cero).productoTensor(cero)\n",
    "phi_1= phi_0.accion(HHH)\n",
    "phi_2 = phi_1.accion(U)\n",
    "phi_3= phi_2.accion(HHI)\n",
    "print(phi_3)\n",
    "Systems.particulaProbabilidad(2, phi_3)"
   ]
  },
  {
   "cell_type": "code",
   "execution_count": null,
   "metadata": {},
   "outputs": [],
   "source": []
  }
 ],
 "metadata": {
  "kernelspec": {
   "display_name": "Python 3",
   "language": "python",
   "name": "python3"
  },
  "language_info": {
   "codemirror_mode": {
    "name": "ipython",
    "version": 3
   },
   "file_extension": ".py",
   "mimetype": "text/x-python",
   "name": "python",
   "nbconvert_exporter": "python",
   "pygments_lexer": "ipython3",
   "version": "3.7.3"
  }
 },
 "nbformat": 4,
 "nbformat_minor": 2
}
