{
 "cells": [
  {
   "cell_type": "code",
   "execution_count": 193,
   "metadata": {},
   "outputs": [
    {
     "name": "stdout",
     "output_type": "stream",
     "text": [
      "24.00\n",
      "3.20 + 10.30i\n",
      "-18.22 + 28.79i\n",
      "-0.96 + 2.08i\n",
      "( 2.23607  ,  2.03444)\n",
      "2.83 -2.83i\n",
      "2.20 +6.00i\n"
     ]
    },
    {
     "data": {
      "image/png": "[encoded data removed]",
      "text/plain": [
       "<Figure size 432x288 with 1 Axes>"
      ]
     },
     "metadata": {
      "needs_background": "light"
     },
     "output_type": "display_data"
    }
   ],
   "source": [
    "%run COMPLEJO.ipynb\n",
    "import math\n",
    "from math import pi"
   ]
  },
  {
   "cell_type": "markdown",
   "metadata": {},
   "source": [
    "# ATENCIÓN, algunas operaciones como la multiplicación no son conmutativas debido a temas de implementación, así que al multiplicar una matriz y un complejo, se debe escribir B*c, siendo B la matriz y c el complejo, de otro modo resultará en error."
   ]
  },
  {
   "cell_type": "code",
   "execution_count": 1,
   "metadata": {
    "collapsed": true
   },
   "outputs": [],
   "source": [
    "import math\n",
    "class Matriz:\n",
    "    def __init__(self, filas, columnas, matriz=None):\n",
    "        self.columnas = columnas\n",
    "        self.filas = filas\n",
    "        self.matriz = []\n",
    "        if(matriz == None):\n",
    "            aux=[]\n",
    "            for i in range(filas):\n",
    "                for j in range(columnas):\n",
    "                    aux.append(Complejo(0,0))\n",
    "                self.matriz.append(aux)\n",
    "                aux = []\n",
    "            \n",
    "            \n",
    "        elif(filas == len(matriz) and len(matriz[0])==columnas):\n",
    "            aux = []\n",
    "             \n",
    "            for i in range(filas):\n",
    "                for j in range(columnas):\n",
    "                    aux.append(Complejo.complejoDe(matriz[i][j]))\n",
    "                self.matriz.append(aux)\n",
    "                aux = []\n",
    "                \n",
    "             \n",
    "                \n",
    "                    \n",
    "        else:\n",
    "            raise Exception(\"Tamaño incorrecto\")\n",
    "    \n",
    "    \n",
    "    \n",
    "    def __str__(self):\n",
    "        answer = \"\"\n",
    "        ans = [None]*self.columnas\n",
    "        for i in range(self.filas):\n",
    "            for j in range(self.columnas):\n",
    "                ans[j] = str(self.matriz[i][j])\n",
    "                \n",
    "             \n",
    "            answer = answer +str(ans)+\"\\n\" \n",
    "            ans = ans.copy()\n",
    "        return str(answer.strip())\n",
    "    \n",
    "    def __add__(self, b):\n",
    "        if(not(\"Matriz\" in  str(b.__class__))):\n",
    "            raise Exception(\"Operación inválida\")\n",
    "        elif(not (self.filas == b.filas and self.columnas == b.columnas)):\n",
    "            raise Exception(\"Tamaño inválido\")\n",
    "        else:\n",
    "            ans = Matriz(self.filas,self.columnas)\n",
    "            for i in range(self.filas):\n",
    "                for j in range(self.columnas):\n",
    "                    ans[i,j] = self[i,j] + b[i,j]\n",
    "            return ans\n",
    "                    \n",
    "    def __getitem__(self,tup):\n",
    "        return self.matriz[tup[0]][tup[1]]\n",
    "    def __setitem__(self, tup, value):\n",
    "        self.matriz[tup[0]][tup[1]]=value\n",
    "    \n",
    "    def multiplicar(self,b):\n",
    "        if(self.columnas!=b.filas):\n",
    "            raise Exception(\"El numero de columnas de la primera debe ser igual al numero de filas de la segunda\")\n",
    "        else:\n",
    "            ans = Matriz(self.filas, b.columnas)\n",
    "            for i in range(self.filas):\n",
    "                for j in range(b.columnas):\n",
    "                    ans[i,j]= self.obtenerSuma(b,i,j)\n",
    "            return ans\n",
    "                    \n",
    "    def obtenerSuma(self,b,i,j):\n",
    "        suma = Complejo(0,0)\n",
    "        for t in range(self.columnas):\n",
    "            suma+= self[i,t]*b[t,j]\n",
    "        return suma\n",
    "    def multiplicacionEscalar(self,b):\n",
    "        ans = Matriz(self.filas, self.columnas)\n",
    "        for i in range(self.filas):\n",
    "            for j in range(self.columnas):\n",
    "                ans[i,j] = b*self[i,j]\n",
    "        return ans        \n",
    "    def __mul__(self, b):\n",
    "        if(\"Matriz\" in  str(b.__class__)):\n",
    "            return self.multiplicar(b)\n",
    "        \n",
    "        escalar = b\n",
    "        if(type(b) is int or type(b) is float):\n",
    "            escalar = Complejo(b,0)\n",
    "        return self.multiplicacionEscalar(escalar)\n",
    "        \n",
    "    \n",
    "    def __rmul__(self,b):\n",
    "        return b.__mul__(self)\n",
    "    def conjugada(self):\n",
    "        ans = Matriz(self.filas, self.columnas)\n",
    "        for i in range(self.filas):\n",
    "            for j in range(self.columnas):\n",
    "                ans[i,j] = self[i,j].conjugado()\n",
    "        return ans\n",
    "    \n",
    "    def inversa(self):\n",
    "        ans = Matriz(self.filas, self.columnas)\n",
    "        for i in range(self.filas):\n",
    "            for j in range(self.columnas):\n",
    "                ans[i,j] = self[i,j]*-1\n",
    "        return ans\n",
    "        \n",
    "    def transpuesta(self):\n",
    "        ans = Matriz(self.columnas, self.filas)\n",
    "        for j in range(self.columnas):\n",
    "            for i in range(self.filas):\n",
    "                ans[j,i] = self[i,j]\n",
    "        return ans\n",
    "    \n",
    "    def adjunta(self):\n",
    "        return self.conjugada().transpuesta()\n",
    "    \n",
    "    def esVector(self):\n",
    "        return self.columnas==1\n",
    "    \n",
    "    def accion(self,b):\n",
    "        if(not self.esVector()):\n",
    "            raise Exception(\"No es un Vector\")\n",
    "        else:\n",
    "            return b*self\n",
    "        \n",
    "    def productoInterno(self,b):\n",
    "        if(not (self.esVector() and b.esVector())):\n",
    "            raise Exception(\"No son vectores\")\n",
    "        return self.adjunta()*b\n",
    "        \n",
    "    def norma(self):\n",
    "        return math.sqrt(self.productoInterno(self)[0,0].parteReal)\n",
    "        \n",
    "    def distancia(self,b):\n",
    "        if(not (self.esVector() and b.esVector() and self.filas == b.filas)):\n",
    "            raise Exception(\"Deben ser vectores y del mismo tamaño\")\n",
    "        ans = self + b*-1\n",
    "        return ans.norma()\n",
    "            \n",
    "    def __eq__(self, other):\n",
    "        ans = (self.filas == other.filas) and (self.columnas== self.columnas)\n",
    "        \n",
    "        for i in range(self.filas):\n",
    "            if(not ans):\n",
    "                break\n",
    "            for j in range(self.columnas):\n",
    "                if(not ans):\n",
    "                    break\n",
    "                ans = ans and (self[i,j]==other[i,j])\n",
    "                \n",
    "        return ans\n",
    "    \n",
    "    \n",
    "    def __ne__(self, other):\n",
    "        return not self.__eq__(other)\n",
    "            \n",
    "    def esIdentidad(self):\n",
    "        ans = self.filas == self.columnas\n",
    "        t=0\n",
    "        zero = Complejo(0,0)\n",
    "        uno = Complejo(1,0)\n",
    "        for i in range(self.filas):\n",
    "            if(not ans):\n",
    "                break\n",
    "            for j in range(self.columnas):\n",
    "                if(not ans):\n",
    "                    break\n",
    "                if(j==t):\n",
    "                    ans = ans and self[i,j] == uno\n",
    "                else:\n",
    "                    ans =  ans and self[i,j]==zero\n",
    "            t+=1\n",
    "                \n",
    "        return ans\n",
    "    \n",
    "    def esUnitaria(self):\n",
    "        return (self*self.adjunta()).esIdentidad()\n",
    "    \n",
    "    \n",
    "    def esHermitiana(self):\n",
    "        return self == self.adjunta()"
   ]
  },
  {
   "cell_type": "code",
   "execution_count": 165,
   "metadata": {
    "collapsed": true
   },
   "outputs": [],
   "source": [
    "a = Matriz(3,3, [[(3,0) , (1, 2), (0,-1)], [(2,-1) , (0, 0), (1,0)], [(0,0) , (4, 3), (0,1)]])"
   ]
  },
  {
   "cell_type": "code",
   "execution_count": 166,
   "metadata": {
    "collapsed": true
   },
   "outputs": [],
   "source": [
    "b = Matriz(3,1,[[(1,0)],[(1,-2)],[(0,-1)]])"
   ]
  },
  {
   "cell_type": "code",
   "execution_count": 167,
   "metadata": {},
   "outputs": [
    {
     "name": "stdout",
     "output_type": "stream",
     "text": [
      "['1.00', '1.00']\n",
      "['1.00', '0.00']\n"
     ]
    }
   ],
   "source": [
    "A = Matriz(2,2,[[(1,0),(1,0)],[(1,0),(0,0)]])\n",
    "print(A)"
   ]
  },
  {
   "cell_type": "code",
   "execution_count": 168,
   "metadata": {
    "collapsed": true
   },
   "outputs": [],
   "source": [
    "B= Matriz(2,2,[[(1,0),(0,0)],[(0,0),(1,0)]])"
   ]
  },
  {
   "cell_type": "code",
   "execution_count": null,
   "metadata": {
    "collapsed": true
   },
   "outputs": [],
   "source": []
  },
  {
   "cell_type": "code",
   "execution_count": 169,
   "metadata": {},
   "outputs": [
    {
     "name": "stdout",
     "output_type": "stream",
     "text": [
      "['1.00', '0.00']\n",
      "['0.00', '1.00']\n"
     ]
    }
   ],
   "source": [
    "print(B)"
   ]
  },
  {
   "cell_type": "code",
   "execution_count": 170,
   "metadata": {},
   "outputs": [
    {
     "name": "stdout",
     "output_type": "stream",
     "text": [
      "['3.00', '1.00 +2.00i', '-1.00i']\n",
      "['2.00 -1.00i', '0.00', '1.00']\n",
      "['0.00', '4.00 +3.00i', '1.00i']\n",
      "\n",
      "['-3.00', '-1.00 -2.00i', '1.00i']\n",
      "['-2.00 +1.00i', '-0.00', '-1.00']\n",
      "['-0.00', '-4.00 -3.00i', '-1.00i']\n"
     ]
    }
   ],
   "source": [
    "print(a)\n",
    "print()\n",
    "print(a.inversa())"
   ]
  },
  {
   "cell_type": "code",
   "execution_count": 172,
   "metadata": {},
   "outputs": [
    {
     "name": "stdout",
     "output_type": "stream",
     "text": [
      "['8.31', '2.77 +5.54i', '-2.77i']\n",
      "['5.54 -2.77i', '0.00', '2.77']\n",
      "['0.00', '11.08 +8.31i', '2.77i']\n"
     ]
    }
   ],
   "source": [
    "print(a*2.77)"
   ]
  },
  {
   "cell_type": "code",
   "execution_count": 49,
   "metadata": {},
   "outputs": [
    {
     "name": "stdout",
     "output_type": "stream",
     "text": [
      "['3.00', '2.00 +1.00i', '0.00']\n",
      "['1.00 -2.00i', '0.00', '4.00 -3.00i']\n",
      "['1.00i', '1.00', '-1.00i']\n"
     ]
    }
   ],
   "source": [
    "print(a.adjunta())"
   ]
  },
  {
   "cell_type": "code",
   "execution_count": 52,
   "metadata": {},
   "outputs": [
    {
     "name": "stdout",
     "output_type": "stream",
     "text": [
      "['1.00', '1.00 +2.00i', '1.00i']\n"
     ]
    }
   ],
   "source": [
    "print(b.adjunta())"
   ]
  },
  {
   "cell_type": "code",
   "execution_count": 4,
   "metadata": {},
   "outputs": [
    {
     "ename": "NameError",
     "evalue": "name 'Complejo' is not defined",
     "output_type": "error",
     "traceback": [
      "\u001b[1;31m---------------------------------------------------------------------------\u001b[0m",
      "\u001b[1;31mNameError\u001b[0m                                 Traceback (most recent call last)",
      "\u001b[1;32m<ipython-input-4-32794c860e2f>\u001b[0m in \u001b[0;36m<module>\u001b[1;34m()\u001b[0m\n\u001b[1;32m----> 1\u001b[1;33m \u001b[0mz\u001b[0m \u001b[1;33m=\u001b[0m \u001b[0mMatriz\u001b[0m\u001b[1;33m(\u001b[0m\u001b[1;36m3\u001b[0m\u001b[1;33m,\u001b[0m\u001b[1;36m1\u001b[0m\u001b[1;33m,\u001b[0m\u001b[1;33m[\u001b[0m\u001b[1;33m[\u001b[0m\u001b[1;33m(\u001b[0m\u001b[1;36m1\u001b[0m\u001b[1;33m,\u001b[0m\u001b[1;36m1\u001b[0m\u001b[1;33m)\u001b[0m\u001b[1;33m]\u001b[0m\u001b[1;33m,\u001b[0m\u001b[1;33m[\u001b[0m\u001b[1;33m(\u001b[0m\u001b[1;36m2\u001b[0m\u001b[1;33m,\u001b[0m\u001b[1;33m-\u001b[0m\u001b[1;36m5\u001b[0m\u001b[1;33m)\u001b[0m\u001b[1;33m]\u001b[0m\u001b[1;33m,\u001b[0m\u001b[1;33m[\u001b[0m\u001b[1;33m(\u001b[0m\u001b[1;36m0\u001b[0m\u001b[1;33m,\u001b[0m\u001b[1;36m1\u001b[0m\u001b[1;33m)\u001b[0m\u001b[1;33m]\u001b[0m\u001b[1;33m]\u001b[0m\u001b[1;33m)\u001b[0m\u001b[1;33m\u001b[0m\u001b[0m\n\u001b[0m",
      "\u001b[1;32m<ipython-input-1-db0d88bb6152>\u001b[0m in \u001b[0;36m__init__\u001b[1;34m(self, filas, columnas, matriz)\u001b[0m\n\u001b[0;32m     19\u001b[0m             \u001b[1;32mfor\u001b[0m \u001b[0mi\u001b[0m \u001b[1;32min\u001b[0m \u001b[0mrange\u001b[0m\u001b[1;33m(\u001b[0m\u001b[0mfilas\u001b[0m\u001b[1;33m)\u001b[0m\u001b[1;33m:\u001b[0m\u001b[1;33m\u001b[0m\u001b[0m\n\u001b[0;32m     20\u001b[0m                 \u001b[1;32mfor\u001b[0m \u001b[0mj\u001b[0m \u001b[1;32min\u001b[0m \u001b[0mrange\u001b[0m\u001b[1;33m(\u001b[0m\u001b[0mcolumnas\u001b[0m\u001b[1;33m)\u001b[0m\u001b[1;33m:\u001b[0m\u001b[1;33m\u001b[0m\u001b[0m\n\u001b[1;32m---> 21\u001b[1;33m                     \u001b[0maux\u001b[0m\u001b[1;33m.\u001b[0m\u001b[0mappend\u001b[0m\u001b[1;33m(\u001b[0m\u001b[0mComplejo\u001b[0m\u001b[1;33m.\u001b[0m\u001b[0mcomplejoDe\u001b[0m\u001b[1;33m(\u001b[0m\u001b[0mmatriz\u001b[0m\u001b[1;33m[\u001b[0m\u001b[0mi\u001b[0m\u001b[1;33m]\u001b[0m\u001b[1;33m[\u001b[0m\u001b[0mj\u001b[0m\u001b[1;33m]\u001b[0m\u001b[1;33m)\u001b[0m\u001b[1;33m)\u001b[0m\u001b[1;33m\u001b[0m\u001b[0m\n\u001b[0m\u001b[0;32m     22\u001b[0m                 \u001b[0mself\u001b[0m\u001b[1;33m.\u001b[0m\u001b[0mmatriz\u001b[0m\u001b[1;33m.\u001b[0m\u001b[0mappend\u001b[0m\u001b[1;33m(\u001b[0m\u001b[0maux\u001b[0m\u001b[1;33m)\u001b[0m\u001b[1;33m\u001b[0m\u001b[0m\n\u001b[0;32m     23\u001b[0m                 \u001b[0maux\u001b[0m \u001b[1;33m=\u001b[0m \u001b[1;33m[\u001b[0m\u001b[1;33m]\u001b[0m\u001b[1;33m\u001b[0m\u001b[0m\n",
      "\u001b[1;31mNameError\u001b[0m: name 'Complejo' is not defined"
     ]
    }
   ],
   "source": [
    "z = Matriz(3,1,[[(1,1)],[(2,-5)],[(0,1)]])"
   ]
  },
  {
   "cell_type": "code",
   "execution_count": 78,
   "metadata": {},
   "outputs": [
    {
     "name": "stdout",
     "output_type": "stream",
     "text": [
      "['16.00 +2.00i']\n",
      "['3.00 +2.00i']\n",
      "['22.00 -14.00i']\n"
     ]
    }
   ],
   "source": [
    "print(a*z)"
   ]
  },
  {
   "cell_type": "code",
   "execution_count": 202,
   "metadata": {},
   "outputs": [
    {
     "name": "stdout",
     "output_type": "stream",
     "text": [
      "['-5.00 +13.00i']\n",
      "['5.00 +1.00i']\n",
      "['-2.00 +23.00i']\n",
      "\n",
      "['-5.00 +13.00i']\n",
      "['5.00 +1.00i']\n",
      "['-2.00 +23.00i']\n"
     ]
    }
   ],
   "source": [
    "lista = [[(1,2)], [(2,4)],[(1,-2)]]\n",
    "t = Matriz(3,3, [[(3,0) , (1, 2), (0,-1)], [(2,-1) , (0, 0), (1,0)], [(0,0) , (4, 3), (0,1)]])\n",
    "a= Matriz(3,1, lista)\n",
    "b = Matriz(3,1,lista)\n",
    "print(a.accion(t))\n",
    "print(\"\")\n",
    "print(t*a)"
   ]
  },
  {
   "cell_type": "code",
   "execution_count": 3,
   "metadata": {},
   "outputs": [
    {
     "ename": "NameError",
     "evalue": "name 'a' is not defined",
     "output_type": "error",
     "traceback": [
      "\u001b[1;31m---------------------------------------------------------------------------\u001b[0m",
      "\u001b[1;31mNameError\u001b[0m                                 Traceback (most recent call last)",
      "\u001b[1;32m<ipython-input-3-26aba1cb4a0d>\u001b[0m in \u001b[0;36m<module>\u001b[1;34m()\u001b[0m\n\u001b[1;32m----> 1\u001b[1;33m \u001b[0mprint\u001b[0m\u001b[1;33m(\u001b[0m\u001b[0ma\u001b[0m\u001b[1;33m,\u001b[0m \u001b[0ma\u001b[0m\u001b[1;33m.\u001b[0m\u001b[0mfilas\u001b[0m \u001b[1;33m,\u001b[0m \u001b[0ma\u001b[0m\u001b[1;33m.\u001b[0m\u001b[0mcolumnas\u001b[0m\u001b[1;33m)\u001b[0m\u001b[1;33m\u001b[0m\u001b[0m\n\u001b[0m\u001b[0;32m      2\u001b[0m \u001b[0mprint\u001b[0m\u001b[1;33m(\u001b[0m\u001b[1;33m)\u001b[0m\u001b[1;33m\u001b[0m\u001b[0m\n\u001b[0;32m      3\u001b[0m \u001b[0myyy\u001b[0m\u001b[1;33m=\u001b[0m \u001b[0ma\u001b[0m\u001b[1;33m.\u001b[0m\u001b[0madjunta\u001b[0m\u001b[1;33m(\u001b[0m\u001b[1;33m)\u001b[0m\u001b[1;33m\u001b[0m\u001b[0m\n\u001b[0;32m      4\u001b[0m \u001b[0mprint\u001b[0m\u001b[1;33m(\u001b[0m\u001b[0myyy\u001b[0m\u001b[1;33m,\u001b[0m \u001b[0myyy\u001b[0m\u001b[1;33m.\u001b[0m\u001b[0mfilas\u001b[0m\u001b[1;33m,\u001b[0m \u001b[0myyy\u001b[0m\u001b[1;33m.\u001b[0m\u001b[0mcolumnas\u001b[0m\u001b[1;33m)\u001b[0m\u001b[1;33m\u001b[0m\u001b[0m\n\u001b[0;32m      5\u001b[0m \u001b[1;33m\u001b[0m\u001b[0m\n",
      "\u001b[1;31mNameError\u001b[0m: name 'a' is not defined"
     ]
    }
   ],
   "source": [
    "print(a, a.filas , a.columnas)\n",
    "print()\n",
    "yyy= a.adjunta()\n",
    "print(yyy, yyy.filas, yyy.columnas)\n",
    "\n",
    "print()\n",
    "a =Matriz(3,3,[[(1,0),(0,0),(0,0)], [(0,0),(1,0),(0,0)], [(0,0),(0,0),(1,0)]])\n",
    "print(a==a)\n",
    "print()\n",
    "print(a.adjunta())\n",
    "print(a.esIdentidad())"
   ]
  },
  {
   "cell_type": "code",
   "execution_count": null,
   "metadata": {
    "collapsed": true
   },
   "outputs": [],
   "source": []
  },
  {
   "cell_type": "code",
   "execution_count": null,
   "metadata": {
    "collapsed": true
   },
   "outputs": [],
   "source": []
  },
  {
   "cell_type": "code",
   "execution_count": null,
   "metadata": {
    "collapsed": true
   },
   "outputs": [],
   "source": []
  }
 ],
 "metadata": {
  "kernelspec": {
   "display_name": "Python 3",
   "language": "python",
   "name": "python3"
  },
  "language_info": {
   "codemirror_mode": {
    "name": "ipython",
    "version": 3
   },
   "file_extension": ".py",
   "mimetype": "text/x-python",
   "name": "python",
   "nbconvert_exporter": "python",
   "pygments_lexer": "ipython3",
   "version": "3.7.3"
  }
 },
 "nbformat": 4,
 "nbformat_minor": 2
}
