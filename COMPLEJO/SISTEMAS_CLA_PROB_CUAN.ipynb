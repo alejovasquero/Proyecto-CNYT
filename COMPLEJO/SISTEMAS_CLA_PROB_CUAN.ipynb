{
 "cells": [
  {
   "cell_type": "code",
   "execution_count": 72,
   "metadata": {},
   "outputs": [],
   "source": [
    "%run COMPLEJO.ipynb\n",
    "%run VECTOR_MATRIZ.ipynb"
   ]
  },
  {
   "cell_type": "code",
   "execution_count": 73,
   "metadata": {
    "collapsed": true
   },
   "outputs": [],
   "source": [
    "import unittest\n",
    "import math\n",
    "import matplotlib.pyplot as plt\n",
    "import numpy as np"
   ]
  },
  {
   "cell_type": "code",
   "execution_count": 74,
   "metadata": {},
   "outputs": [],
   "source": [
    "class Systems:\n",
    "    CLASSIC = 0\n",
    "    PROBABILISTIC = 1\n",
    "    QUANTUM = 2\n",
    "    \n",
    "    INVALID_SYSTEM = \"The system is not valid\"\n",
    "    INCORRECT_FORMAT = \"The matriz doesn't match de system format\"\n",
    "    @staticmethod\n",
    "    def verifySystem(matrix, systemType):\n",
    "        ans = False\n",
    "        if(systemType==Systems.CLASSIC):\n",
    "            ans = Systems.verifyClassic(matrix)\n",
    "        elif(systemType==Systems.PROBABILISTIC):\n",
    "            ans = Systems.verifyProbabilistic(matrix)\n",
    "        elif(systemType==Systems.QUANTUM):\n",
    "            ans = Systems.verifyQuantum(matrix)\n",
    "        else: \n",
    "            raise Exception(Systems.INVALID_SYSTEM)\n",
    "        return ans\n",
    "    \n",
    "    @staticmethod\n",
    "    def verifyClassic(matrix):\n",
    "        isValid = True\n",
    "        one = Complejo(1,0)\n",
    "        zero = Complejo(0,0)\n",
    "        columnSum = Complejo(0,0)\n",
    "        j = 0\n",
    "        while(j<matrix.columnas and isValid):\n",
    "            j=0\n",
    "            while(i<matrix.filas and isValid):\n",
    "                isValid = isValid and (matrix[i,j]==one or matrix[i,j]==zero)\n",
    "                columnSum+=matrix[i,j]\n",
    "                i+=1\n",
    "            isValid= isValid and columnSum==one\n",
    "            j+=1\n",
    "        return isValid\n",
    "            \n",
    "            \n",
    "    \n",
    "    @staticmethod\n",
    "    def verifyProbabilistic(matrix):\n",
    "        isValid = True\n",
    "        one = Complejo(1,0)\n",
    "        zero = Complejo(0,0)\n",
    "        columnSum = Complejo(0,0)\n",
    "        j = 0\n",
    "        while(j<matrix.columnas and isValid):\n",
    "            i=0\n",
    "            while(i<matrix.filas and isValid):\n",
    "                s = matrix[i,j].parteReal\n",
    "                isValid = isValid and matrix[i,j].parteImaginaria==0 and s>=0 and s<=1\n",
    "                columnSum+=matrix[i,j]\n",
    "                i+=1\n",
    "            isValid= isValid and columnSum==one\n",
    "            columnSum=Complejo(0,0)\n",
    "            j+=1\n",
    "        i = 0\n",
    "        \n",
    "        while(i<matrix.filas and isValid):\n",
    "            j=0\n",
    "            while(j<matrix.columnas and isValid):\n",
    "                s = matrix[i,j].parteReal\n",
    "                isValid = isValid and matrix[i,j].parteImaginaria==0 and s>=0 and s<=1\n",
    "                columnSum+=matrix[i,j]\n",
    "                j+=1\n",
    "            isValid= isValid and columnSum==one\n",
    "            columnSum=Complejo(0,0)\n",
    "            i+=1\n",
    "        \n",
    "        return isValid\n",
    "    \n",
    "    @staticmethod\n",
    "    def verifyQuantum(matrix):\n",
    "        return matriz.esUnitaria()\n",
    "    \n",
    "    def __init__(self, systemType, matrix: Matriz, state0, clicks):\n",
    "        self.state = [True, None, None]\n",
    "        #[0]=isValid system, [1]=matriz^clicks, [2]=state0->final[t]\n",
    "        if(not Systems.verifySystem(matrix, systemType)):\n",
    "            self.state[0]=False\n",
    "        else:\n",
    "            self.state[1]=matrix**clicks\n",
    "            self.state[2]=self.state[1]*state0\n",
    "        \n",
    "            \n",
    "    "
   ]
  },
  {
   "cell_type": "code",
   "execution_count": 76,
   "metadata": {},
   "outputs": [
    {
     "name": "stdout",
     "output_type": "stream",
     "text": [
      "['0.36']\n",
      "['0.33']\n",
      "['0.31']\n"
     ]
    }
   ],
   "source": [
    "M = Matriz (3,3, [[0,1/6, 5/6], [1/3, 1/2, 1/6], [2/3, 1/3, 0]])\n",
    "a = Systems(1, M, Matriz(3,1,[[1/5],[7/10],[1/10]]), 4)\n",
    "print(a.state[2])"
   ]
  },
  {
   "cell_type": "code",
   "execution_count": null,
   "metadata": {},
   "outputs": [],
   "source": []
  },
  {
   "cell_type": "code",
   "execution_count": null,
   "metadata": {
    "collapsed": true
   },
   "outputs": [],
   "source": []
  }
 ],
 "metadata": {
  "kernelspec": {
   "display_name": "Python 3",
   "language": "python",
   "name": "python3"
  },
  "language_info": {
   "codemirror_mode": {
    "name": "ipython",
    "version": 3
   },
   "file_extension": ".py",
   "mimetype": "text/x-python",
   "name": "python",
   "nbconvert_exporter": "python",
   "pygments_lexer": "ipython3",
   "version": "3.6.3"
  }
 },
 "nbformat": 4,
 "nbformat_minor": 2
}
