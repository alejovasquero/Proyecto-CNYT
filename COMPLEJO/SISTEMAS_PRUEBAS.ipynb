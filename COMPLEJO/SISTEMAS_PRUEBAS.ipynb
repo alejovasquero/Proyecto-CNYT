{
 "cells": [
  {
   "cell_type": "code",
   "execution_count": 101,
   "metadata": {},
   "outputs": [],
   "source": [
    "%run SISTEMAS_CLA_PROB_CUAN.ipynb\n",
    "%run VECTOR_MATRIZ.ipynb"
   ]
  },
  {
   "cell_type": "code",
   "execution_count": 63,
   "metadata": {
    "collapsed": true
   },
   "outputs": [],
   "source": [
    "import unittest\n",
    "import math\n",
    "import matplotlib.pyplot as plt\n",
    "import numpy as np"
   ]
  },
  {
   "cell_type": "code",
   "execution_count": 108,
   "metadata": {
    "scrolled": false
   },
   "outputs": [
    {
     "name": "stdout",
     "output_type": "stream",
     "text": [
      "[0.0, 0.0, 1.0, 7.0, 2.0, 21.0, 5.0, 0.0, 4.0, 0.0, 3.0, 5.0, 0.0]\n"
     ]
    },
    {
     "data": {
      "image/png": "[encoded data removed]",
      "text/plain": [
       "<matplotlib.figure.Figure at 0x19bb34863c8>"
      ]
     },
     "metadata": {},
     "output_type": "display_data"
    },
    {
     "name": "stderr",
     "output_type": "stream",
     "text": [
      "."
     ]
    },
    {
     "name": "stdout",
     "output_type": "stream",
     "text": [
      "[0.0, 0.0, 0.0, 0.045454545454545456, 0.045454545454545456, 0.045454545454545456, 0.045454545454545456, 0.045454545454545456, 0.045454545454545456, 0.18181818181818182, 0.18181818181818182, 0.18181818181818182, 0.0, 0.09090909090909091, 0.045454545454545456, 0.045454545454545456, 0.045454545454545456, 0.045454545454545456, 0.045454545454545456, 0.045454545454545456]\n"
     ]
    },
    {
     "data": {
      "image/png": "[encoded data removed]",
      "text/plain": [
       "<matplotlib.figure.Figure at 0x19bb473ea58>"
      ]
     },
     "metadata": {},
     "output_type": "display_data"
    },
    {
     "name": "stderr",
     "output_type": "stream",
     "text": [
      "."
     ]
    },
    {
     "name": "stdout",
     "output_type": "stream",
     "text": [
      "[0.06854114583333333, 0.08497952546296297, 0.09477932870370367, 0.06920364583333333, 0.08580091435185185, 0.09569543981481479, 0.06930522916666666, 0.08592686064814814, 0.09583591018518517, 0.06899164583333331, 0.0855380699074074, 0.09540228425925924]\n"
     ]
    },
    {
     "data": {
      "image/png": "[encoded data removed]",
      "text/plain": [
       "<matplotlib.figure.Figure at 0x19bb3493860>"
      ]
     },
     "metadata": {},
     "output_type": "display_data"
    },
    {
     "name": "stderr",
     "output_type": "stream",
     "text": [
      ".\n",
      "----------------------------------------------------------------------\n",
      "Ran 3 tests in 1.206s\n",
      "\n",
      "OK\n"
     ]
    },
    {
     "data": {
      "text/plain": [
       "<unittest.runner.TextTestResult run=3 errors=0 failures=0>"
      ]
     },
     "execution_count": 108,
     "metadata": {},
     "output_type": "execute_result"
    }
   ],
   "source": [
    "class SystemsTest(unittest.TestCase): \n",
    "    \n",
    "    def test_deberiaClasico(self):\n",
    "        M = Matriz(13,13,[[[0,0],[0,0],[0,0],[0,0],[0,0],[0,0],[0,0],[0,0],[0,0],[0,0],[0,0],[0,0],[1,0]], #0\n",
    "     [[0,0],[0,0],[0,0],[0,0],[0,0],[0,0],[0,0],[0,0],[0,0],[0,0],[1,0],[0,0],[0,0]], #1\n",
    "     [[0,0],[0,0],[0,0],[0,0],[0,0],[0,0],[0,0],[0,0],[0,0],[0,0],[0,0],[1,0],[0,0]], #2 \n",
    "     [[0,0],[0,0],[1,0],[0,0],[0,0],[0,0],[0,0],[0,0],[0,0],[0,0],[0,0],[0,0],[0,0]], #3\n",
    "     [[0,0],[0,0],[0,0],[1,0],[0,0],[0,0],[0,0],[0,0],[0,0],[0,0],[0,0],[0,0],[0,0]], #4 \n",
    "     [[0,0],[0,0],[0,0],[0,0],[0,0],[0,0],[1,0],[0,0],[0,0],[0,0],[0,0],[0,0],[0,0]], #5\n",
    "     [[0,0],[0,0],[0,0],[0,0],[0,0],[1,0],[0,0],[0,0],[0,0],[1,0],[0,0],[0,0],[0,0]], #6\n",
    "     [[0,0],[0,0],[0,0],[0,0],[1,0],[0,0],[0,0],[0,0],[0,0],[0,0],[0,0],[0,0],[0,0]], #7\n",
    "     [[0,0],[1,0],[0,0],[0,0],[0,0],[0,0],[0,0],[0,0],[0,0],[0,0],[0,0],[0,0],[0,0]], #8\n",
    "     [[1,0],[0,0],[0,0],[0,0],[0,0],[0,0],[0,0],[0,0],[0,0],[0,0],[0,0],[0,0],[0,0]], #9\n",
    "     [[0,0],[0,0],[0,0],[0,0],[0,0],[0,0],[0,0],[0,0],[1,0],[0,0],[0,0],[0,0],[0,0]], #10\n",
    "     [[0,0],[0,0],[0,0],[0,0],[0,0],[0,0],[0,0],[1,0],[0,0],[0,0],[0,0],[0,0],[0,0]], #11\n",
    "     [[0,0],[0,0],[0,0],[0,0],[0,0],[0,0],[0,0],[0,0],[0,0],[0,0],[0,0],[0,0],[0,0]]]  )\n",
    "        V = Matriz(13,1,[[[10,0]],  #0\n",
    "     [[4,0]],   #1\n",
    "     [[1,0]],   #2\n",
    "     [[7,0]],   #3\n",
    "     [[2,0]],   #4\n",
    "     [[2,0]],   #5\n",
    "     [[11,0]],  #6\n",
    "     [[0,0]],   #7\n",
    "     [[3,0]],   #8\n",
    "     [[1,0]],   #9\n",
    "     [[0,0]],   #10\n",
    "     [[5,0]],   #11\n",
    "     [[2,0]]])\n",
    "    \n",
    "        a = Systems(Systems.CLASSIC, M, V, 25)\n",
    "        self.assertTrue(a.state[0]==True)\n",
    "        a.showGraphic()\n",
    "    \n",
    "    \n",
    "    def test_deberiaEnsamblar(self):\n",
    "        # Matriz de la dinámica para el sistema probabilístico A\n",
    "        MA = Matriz(4,4,[[[0,0],[0.2,0],[0.3,0],[0.5,0]],\n",
    "      [[0.3,0],[0.2,0],[0.1,0],[0.4,0]],\n",
    "      [[0.4,0],[0.3,0],[0.2,0],[0.1,0]],\n",
    "      [[0.3,0],[0.3,0],[0.4,0],[0,0]]\n",
    "     ])\n",
    "\n",
    "        # Matriz de la dinámica para el sistema probabilístico B\n",
    "        MB = Matriz(3,3,[[[0,0],[1/6,0],[5/6,0]], \n",
    "      [[1/3,0],[1/2,0],[1/6,0]], \n",
    "      [[2/3,0],[1/3,0],[0,0]] \n",
    "     ])\n",
    "\n",
    "# Vector de estado inicial sistema probabilístico A\n",
    "        VA = Matriz(4,1,[[[0.2,0]],[[0.1,0]],[[0.6,0]],[[0.1,0]]])\n",
    "\n",
    "# Vector de estado inicial sistema probabilístico B\n",
    "        VB = Matriz(3,1,[[[0.7,0]],[[0.15,0]],[[0.15,0]]])\n",
    "        a=Systems.assembleSystems(MA, VA, MB, VB, 5) \n",
    "        self.assertTrue(a.state[0]==True)\n",
    "        a.showGraphic()\n",
    "    \n",
    "   \n",
    "    \n",
    "    def test_deberiaCrearRendija(self):\n",
    "        r=1/(22**0.5)\n",
    "        vector = Matriz(11,1, [[[r,r]],   #1\n",
    "     [[-r,-r]], #2\n",
    "     [[-r,r]],  #3\n",
    "     [[-r,-r]], #4\n",
    "     [[r,-r]],  #5\n",
    "     [[-r,-r]], #6\n",
    "     [[-r,-r]], #7\n",
    "     [[-r,-r]], #8\n",
    "     [[r,-r]],  #9\n",
    "     [[r,-r]],  #10\n",
    "     [[-r,r]]   #11\n",
    "     ])\n",
    "        \n",
    "        \n",
    "        a = Systems.doubleSlit(2, 5, vector)\n",
    "        a.showGraphic()\n",
    "        \n",
    "        self.assertTrue(a.state[0]==True)\n",
    "        \n",
    "        \n",
    "unittest.TextTestRunner().run(unittest.TestLoader().loadTestsFromTestCase(SystemsTest))\n"
   ]
  },
  {
   "cell_type": "code",
   "execution_count": null,
   "metadata": {
    "collapsed": true
   },
   "outputs": [],
   "source": []
  }
 ],
 "metadata": {
  "kernelspec": {
   "display_name": "Python 3",
   "language": "python",
   "name": "python3"
  },
  "language_info": {
   "codemirror_mode": {
    "name": "ipython",
    "version": 3
   },
   "file_extension": ".py",
   "mimetype": "text/x-python",
   "name": "python",
   "nbconvert_exporter": "python",
   "pygments_lexer": "ipython3",
   "version": "3.6.3"
  }
 },
 "nbformat": 4,
 "nbformat_minor": 2
}
