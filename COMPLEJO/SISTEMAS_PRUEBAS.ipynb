{
 "cells": [
  {
   "cell_type": "code",
   "execution_count": 1,
   "metadata": {},
   "outputs": [
    {
     "name": "stdout",
     "output_type": "stream",
     "text": [
      "['0.36']\n",
      "['0.33']\n",
      "['0.31']\n",
      "['0.10']\n",
      "['0.18']\n",
      "['0.23']\n",
      "['0.10']\n",
      "['0.17']\n",
      "['0.22']\n"
     ]
    }
   ],
   "source": [
    "%run SISTEMAS_CLA_PROB_CUAN.ipynb"
   ]
  },
  {
   "cell_type": "code",
   "execution_count": 2,
   "metadata": {},
   "outputs": [],
   "source": [
    "import unittest\n",
    "import math\n",
    "import matplotlib.pyplot as plt\n",
    "import numpy as np"
   ]
  },
  {
   "cell_type": "code",
   "execution_count": null,
   "metadata": {},
   "outputs": [],
   "source": [
    "class SystemsTest(unittest.TestCase): \n",
    "    \n",
    "    def test_deberiaCrearSistemaClásico(self):\n",
    "        a = Matriz(3,3, [[0,0,0], [1,0,0], [0,1,1]])\n",
    "        v = \n",
    "        self.assertEqual(a, Complejo(99,-99)+Complejo(-99,99))\n",
    "        self.assertEqual(a,  Complejo(-0, 1)+Complejo(+0,-1))\n",
    "        self.assertEqual(a, Complejo(+0,+0)+Complejo(-0,-0))\n",
    "    \n",
    "    \n",
    "        \n",
    "        \n",
    "unittest.TextTestRunner().run(unittest.TestLoader().loadTestsFromTestCase(ComplejosTest))\n"
   ]
  }
 ],
 "metadata": {
  "kernelspec": {
   "display_name": "Python 3",
   "language": "python",
   "name": "python3"
  },
  "language_info": {
   "codemirror_mode": {
    "name": "ipython",
    "version": 3
   },
   "file_extension": ".py",
   "mimetype": "text/x-python",
   "name": "python",
   "nbconvert_exporter": "python",
   "pygments_lexer": "ipython3",
   "version": "3.6.3"
  }
 },
 "nbformat": 4,
 "nbformat_minor": 2
}
