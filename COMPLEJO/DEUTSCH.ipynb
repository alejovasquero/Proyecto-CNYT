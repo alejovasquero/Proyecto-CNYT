{
 "cells": [
  {
   "cell_type": "code",
   "execution_count": 16,
   "metadata": {},
   "outputs": [],
   "source": [
    "%run COMPLEJO.ipynb\n",
    "%run VECTOR_MATRIZ.ipynb\n",
    "%run COMPLEJO.ipynb\n",
    "%run SISTEMAS_CLA_PROB_CUAN.ipynb"
   ]
  },
  {
   "cell_type": "code",
   "execution_count": 21,
   "metadata": {},
   "outputs": [
    {
     "name": "stdout",
     "output_type": "stream",
     "text": [
      "['0.00']\n",
      "['0.00']\n",
      "['0.71']\n",
      "['-0.71']\n"
     ]
    },
    {
     "data": {
      "image/png": "[encoded data removed]",
      "text/plain": [
       "<Figure size 432x288 with 1 Axes>"
      ]
     },
     "metadata": {
      "needs_background": "light"
     },
     "output_type": "display_data"
    },
    {
     "data": {
      "text/plain": [
       "[0.0, 0.0, 0.5, 0.5]"
      ]
     },
     "execution_count": 21,
     "metadata": {},
     "output_type": "execute_result"
    }
   ],
   "source": [
    "ada = Matriz(2,2 , [[1/2**0.5, 1/2**0.5], [1/2**0.5, -1/2**0.5]])\n",
    "u01 = Matriz(4,4 ,[[1,0,0,0], [0,1,0,0], [0,0,0,1], [0,0,1,0]])\n",
    "u00 = Matriz(4,4 ,[[1,0,0,0], [0,1,0,0], [0,0,1,0], [0,0,0,1]])\n",
    "u11 = Matriz(4,4 ,[[0,1,0,0], [1,0,0,0], [0,0,0,1], [0,0,1,0]])\n",
    "u10 = Matriz(4,4 ,[[0,1,0,0], [1,0,0,0], [0,0,1,0], [0,0,0,1]])\n",
    "cero = Matriz(2,1, [[1], [0]])\n",
    "uno = Matriz(2,1, [[0], [1]])\n",
    "iden = Matriz(2,2 , [[1,0],[0,1]])\n",
    "\n",
    "HH = ada.productoTensor(ada)\n",
    "HI = ada.productoTensor(iden)\n",
    "\n",
    "phi_0 = cero.productoTensor(uno)\n",
    "phi_1 = phi_0.accion(HH)\n",
    "phi_2 = phi_1.accion(u01)\n",
    "phi_3 = phi_2.accion(HI)\n",
    "print(phi_3)\n",
    "Systems.particulaProbabilidad(2, phi_3)\n",
    "\n"
   ]
  },
  {
   "cell_type": "code",
   "execution_count": null,
   "metadata": {},
   "outputs": [],
   "source": []
  }
 ],
 "metadata": {
  "kernelspec": {
   "display_name": "Python 3",
   "language": "python",
   "name": "python3"
  },
  "language_info": {
   "codemirror_mode": {
    "name": "ipython",
    "version": 3
   },
   "file_extension": ".py",
   "mimetype": "text/x-python",
   "name": "python",
   "nbconvert_exporter": "python",
   "pygments_lexer": "ipython3",
   "version": "3.7.3"
  }
 },
 "nbformat": 4,
 "nbformat_minor": 2
}
