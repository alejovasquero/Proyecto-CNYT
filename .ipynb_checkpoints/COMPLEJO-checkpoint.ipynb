{
 "cells": [
  {
   "cell_type": "markdown",
   "metadata": {},
   "source": [
    "# Implementación funciones python"
   ]
  },
  {
   "cell_type": "markdown",
   "metadata": {
    "scrolled": true
   },
   "source": [
    "#### Suma de dos numeros Complejos"
   ]
  },
  {
   "cell_type": "code",
   "execution_count": 32,
   "metadata": {},
   "outputs": [
    {
     "name": "stdout",
     "output_type": "stream",
     "text": [
      "24.00\n"
     ]
    }
   ],
   "source": [
    "#Definición de la clase Complejo\n",
    "#Se utilizarán clases por simplicidad\n",
    "\n",
    "class Complejo:\n",
    "    def __init__(self, parteReal: float, parteImaginaria: float):\n",
    "        self.parteReal = parteReal\n",
    "        self.parteImaginaria = parteImaginaria\n",
    "\n",
    "    def __str__(self):\n",
    "        a = None\n",
    "        if(self.parteImaginaria == 0):\n",
    "            a = \"{0:.2f}\".format(self.parteReal)\n",
    "        elif(self.parteReal == 0):\n",
    "            a = \"{0:.2f}i\".format(self.parteImaginaria)\n",
    "        else:\n",
    "            a= \"{0:.2f} + {1:.2f}i\".format(self.parteReal, self.parteImaginaria)\n",
    "        return a\n",
    "    \n",
    "def main():\n",
    "    a = Complejo(24,0)\n",
    "    print(a)\n",
    "main()\n"
   ]
  },
  {
   "cell_type": "markdown",
   "metadata": {},
   "source": [
    "- Al imprimir el número complejo se aproxima a dos decimales"
   ]
  },
  {
   "cell_type": "markdown",
   "metadata": {},
   "source": [
    "#### A continuación definimos las operaciones de suma y producto entre dos complejos"
   ]
  },
  {
   "cell_type": "code",
   "execution_count": 12,
   "metadata": {
    "collapsed": true
   },
   "outputs": [],
   "source": [
    "class Complejo:\n",
    "    def __init__(self, parteReal: float, parteImaginaria: float):\n",
    "        self.parteReal = parteReal\n",
    "        self.parteImaginaria = parteImaginaria\n",
    "\n",
    "    def __str__(self):\n",
    "        a = None\n",
    "        if(self.parteImaginaria == 0):\n",
    "            a = \"{0:.2f}\".format(self.parteReal)\n",
    "        elif(self.parteReal == 0):\n",
    "            a = \"{0:.2f}i\".format(self.parteImaginaria)\n",
    "        else:\n",
    "            a= \"{0:.2f} + {1:.2f}i\".format(self.parteReal, self.parteImaginaria)\n",
    "        return a\n",
    "    \n",
    "    \n",
    "    #AÑADIDO\n",
    "    @staticmethod\n",
    "    def suma(a, b):\n",
    "        return Complejo(a.parteReal + b.parteReal, a.parteImaginaria + b.parteImaginaria)\n",
    "    \n",
    "    @staticmethod\n",
    "    def multiplicacion(a, b):\n",
    "        a1 , b1 = a.parteReal, a.parteImaginaria\n",
    "        a2, b2 = b. parteReal, b.parteImaginaria\n",
    "        return Complejo(a1*a2 - b1*b2, a1*b2 + b1*a2)"
   ]
  },
  {
   "cell_type": "code",
   "execution_count": 16,
   "metadata": {},
   "outputs": [
    {
     "name": "stdout",
     "output_type": "stream",
     "text": [
      "3.20 + 10.30i\n"
     ]
    }
   ],
   "source": [
    "a = Complejo(0, 5.3)\n",
    "b = Complejo(3.2, 5)\n",
    "print(Complejo.suma(a,b))"
   ]
  },
  {
   "cell_type": "code",
   "execution_count": 14,
   "metadata": {},
   "outputs": [
    {
     "name": "stdout",
     "output_type": "stream",
     "text": [
      "-18.22 + 28.79i\n"
     ]
    }
   ],
   "source": [
    "a = Complejo(2.43, 5.2)\n",
    "b = Complejo(3.2, 5)\n",
    "print(Complejo.multiplicacion(a,b))"
   ]
  },
  {
   "cell_type": "code",
   "execution_count": 17,
   "metadata": {
    "collapsed": true
   },
   "outputs": [],
   "source": [
    "# Procedemos a definir la resta, la división y el modulo"
   ]
  },
  {
   "cell_type": "code",
   "execution_count": 49,
   "metadata": {
    "collapsed": true
   },
   "outputs": [],
   "source": [
    "from math import sqrt\n",
    "class Complejo:\n",
    "    def __init__(self, parteReal: float, parteImaginaria: float):\n",
    "        self.parteReal = parteReal\n",
    "        self.parteImaginaria = parteImaginaria\n",
    "\n",
    "    def __str__(self):\n",
    "        a = None\n",
    "        if(self.parteImaginaria == 0):\n",
    "            a = \"{0:.2f}\".format(self.parteReal)\n",
    "        elif(self.parteReal == 0):\n",
    "            a = \"{0:.2f}i\".format(self.parteImaginaria)\n",
    "        else:\n",
    "            a= \"{0:.2f} + {1:.2f}i\".format(self.parteReal, self.parteImaginaria)\n",
    "        return a\n",
    "    \n",
    "    @staticmethod\n",
    "    def suma(a, b):\n",
    "        return Complejo(a.parteReal + b.parteReal, a.parteImaginaria + b.parteImaginaria)\n",
    "    \n",
    "    @staticmethod\n",
    "    def multiplicacion(a, b):\n",
    "        a1 , b1 = a.parteReal, a.parteImaginaria\n",
    "        a2, b2 = b. parteReal, b.parteImaginaria\n",
    "        return Complejo(a1*a2 - b1*b2, a1*b2 + b1*a2)\n",
    "    \n",
    "    \n",
    "    \n",
    "    \n",
    "    \n",
    "    \n",
    "    #AÑADIDO\n",
    "    def modulo(self):\n",
    "        return sqrt((self.parteReal)**2 + (self.parteImaginaria)**2)\n",
    "    \n",
    "    #divide el complejo por un real\n",
    "    def divisionEscalar(self, divisor):\n",
    "        self.parteReal = self.parteReal/divisor\n",
    "        self.parteImaginaria = self.parteImaginaria/ divisor\n",
    "    \n",
    "    def conjugado(self):\n",
    "        return Complejo(self.parteReal, -self.parteImaginaria)\n",
    "    \n",
    "    @staticmethod\n",
    "    def division(a,b):\n",
    "        #Al dividir a/b nos vamos a basar en la multiplicacion por el conjugado con divisor igual el cuadrado del modulo de b\n",
    "        divisor = b.modulo()**2\n",
    "        respuesta =  Complejo.multiplicacion(a, b.conjugado())\n",
    "        respuesta.divisionEscalar(divisor)\n",
    "        return respuesta"
   ]
  },
  {
   "cell_type": "code",
   "execution_count": 57,
   "metadata": {},
   "outputs": [
    {
     "name": "stdout",
     "output_type": "stream",
     "text": [
      "-0.96 + 2.08i\n"
     ]
    }
   ],
   "source": [
    "a = Complejo(3.2, 4)\n",
    "b = Complejo(1,-2)\n",
    "print(Complejo.division(a,b))"
   ]
  },
  {
   "cell_type": "markdown",
   "metadata": {},
   "source": [
    "# Vamos a pasar de coordenadas cartesianas a polares\n",
    "- Tener en cuenta que se entrega la fase en valor positivo entre 0 y 2pi y añadimos la resta"
   ]
  },
  {
   "cell_type": "code",
   "execution_count": 4,
   "metadata": {
    "collapsed": true
   },
   "outputs": [],
   "source": [
    "import math\n",
    "class Complejo:\n",
    "    def __init__(self, parteReal: float, parteImaginaria: float):\n",
    "        self.parteReal = parteReal\n",
    "        self.parteImaginaria = parteImaginaria\n",
    "\n",
    "    def __str__(self):\n",
    "        a = None\n",
    "        if(self.parteImaginaria == 0):\n",
    "            a = \"{0:.2f}\".format(self.parteReal)\n",
    "        elif(self.parteReal == 0):\n",
    "            a = \"{0:.2f}i\".format(self.parteImaginaria)\n",
    "        else:\n",
    "            a= \"{0:.2f} + {1:.2f}i\".format(self.parteReal, self.parteImaginaria)\n",
    "        return a\n",
    "    \n",
    "    @staticmethod\n",
    "    def suma(a, b):\n",
    "        return Complejo(a.parteReal + b.parteReal, a.parteImaginaria + b.parteImaginaria)\n",
    "    \n",
    "    @staticmethod\n",
    "    def multiplicacion(a, b):\n",
    "        a1 , b1 = a.parteReal, a.parteImaginaria\n",
    "        a2, b2 = b. parteReal, b.parteImaginaria\n",
    "        return Complejo(a1*a2 - b1*b2, a1*b2 + b1*a2)\n",
    "    \n",
    "    @staticmethod\n",
    "    def resta(a, b):\n",
    "        return Complejo(a.parteReal - b.parteReal, a.parteImaginaria - b.parteImaginaria)\n",
    "    \n",
    "    \n",
    "    def modulo(self):\n",
    "        return math.sqrt((self.parteReal)**2 + (self.parteImaginaria)**2)\n",
    "    \n",
    "    #divide el complejo por un real\n",
    "    def divisionEscalar(self, divisor):\n",
    "        self.parteReal = self.parteReal/divisor\n",
    "        self.parteImaginaria = self.parteImaginaria/ divisor\n",
    "    \n",
    "    def conjugado(self):\n",
    "        return Complejo(self.parteReal, -self.parteImaginaria)\n",
    "    \n",
    "    @staticmethod\n",
    "    def division(a,b):\n",
    "        #Al dividir a/b nos vamos a basar en la multiplicacion por el conjugado con divisor igual el cuadrado del modulo de b\n",
    "        divisor = b.modulo()**2\n",
    "        respuesta =  Complejo.multiplicacion(a, b.conjugado())\n",
    "        respuesta.divisionEscalar(divisor)\n",
    "        return respuesta\n",
    "    \n",
    "    \n",
    "    \n",
    "    #AÑADIDO\n",
    "    def obtenerAngulo(self):\n",
    "        angulo = 0\n",
    "        if(self.parteReal == 0):\n",
    "            if(self.parteImaginaria< 0):\n",
    "                angulo = 270\n",
    "            elif(self.parteImaginaria> 0):\n",
    "                angulo = 90\n",
    "        else: \n",
    "            angulo = math.atan(self.parteImaginaria / self.parteReal)*180/pi\n",
    "            angulo = self.ajustarAngulo(angulo)\n",
    "        return angulo*pi/180\n",
    "    \n",
    "    def ajustarAngulo(self, angulo):\n",
    "        i = self.parteReal\n",
    "        j = self.parteImaginaria\n",
    "        if(i<0 and j>0):\n",
    "            angulo = angulo + 180\n",
    "        elif(i<0 and j<0):\n",
    "            angulo = angulo + 180\n",
    "        elif(i>0 and j<0):\n",
    "            angulo = 360 + angulo\n",
    "        return angulo%360\n",
    "    def polares(self):\n",
    "        return \"( {0:.5f}  ,  {1:.5f})\".format(self.modulo(), self.obtenerAngulo())\n",
    "        \n",
    "        \n",
    "    #Vamos a suponer que el complejo ya está en polares    \n",
    "    def cartesianas(self):\n",
    "        modulo = self.parteReal\n",
    "        fase = self.parteImaginaria\n",
    "        return Complejo(modulo*math.cos(fase), modulo*math.sin(fase))\n",
    "        \n",
    "        \n",
    "            \n",
    "                \n",
    "            \n",
    "            \n",
    "            \n",
    "            \n",
    "            "
   ]
  },
  {
   "cell_type": "code",
   "execution_count": 72,
   "metadata": {},
   "outputs": [
    {
     "name": "stdout",
     "output_type": "stream",
     "text": [
      "( 2.23607  ,  2.03444)\n"
     ]
    }
   ],
   "source": [
    "\n",
    "#De cartesianas a polares\n",
    "a = Complejo(-1,2)\n",
    "print(a.polares())"
   ]
  },
  {
   "cell_type": "code",
   "execution_count": 76,
   "metadata": {},
   "outputs": [
    {
     "name": "stdout",
     "output_type": "stream",
     "text": [
      "2.83 + -2.83i\n"
     ]
    }
   ],
   "source": [
    "#De polares a cartesianas\n",
    "a = Complejo(4,-pi/4)\n",
    "print(a.cartesianas())"
   ]
  },
  {
   "cell_type": "code",
   "execution_count": 77,
   "metadata": {
    "collapsed": true
   },
   "outputs": [],
   "source": [
    "import matplotlib.pyplot as plt\n",
    "import numpy as np"
   ]
  },
  {
   "cell_type": "code",
   "execution_count": 5,
   "metadata": {},
   "outputs": [
    {
     "name": "stdout",
     "output_type": "stream",
     "text": [
      "2.20 + 6.00i\n"
     ]
    }
   ],
   "source": [
    "a = Complejo(3.2, 4)\n",
    "b = Complejo(1,-2)\n",
    "print(Complejo.resta(a,b))"
   ]
  },
  {
   "cell_type": "code",
   "execution_count": null,
   "metadata": {
    "collapsed": true
   },
   "outputs": [],
   "source": []
  },
  {
   "cell_type": "code",
   "execution_count": null,
   "metadata": {
    "collapsed": true
   },
   "outputs": [],
   "source": []
  },
  {
   "cell_type": "code",
   "execution_count": null,
   "metadata": {
    "collapsed": true
   },
   "outputs": [],
   "source": []
  },
  {
   "cell_type": "code",
   "execution_count": null,
   "metadata": {
    "collapsed": true
   },
   "outputs": [],
   "source": []
  }
 ],
 "metadata": {
  "kernelspec": {
   "display_name": "Python 3",
   "language": "python",
   "name": "python3"
  }
 },
 "nbformat": 4,
 "nbformat_minor": 2
}
